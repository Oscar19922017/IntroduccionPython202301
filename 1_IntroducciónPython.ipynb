{
 "cells": [
  {
   "cell_type": "markdown",
   "metadata": {
    "id": "sfd9T4PXtOYu"
   },
   "source": [
    "<img src=\"https://upload.wikimedia.org/wikipedia/commons/thumb/c/c3/Python-logo-notext.svg/701px-Python-logo-notext.svg.png\" width=100, align=\"right\" >\n",
    "\n",
    "\n",
    "\n",
    "# **1) Introducción a Python**\n",
    "\n",
    "\n",
    "\n",
    "Python es un lenguaje de programación de alto nivel, interpretado, interactivo y orientado a objetos. Fue creado por Guido van Rossum y su primera versión fue lanzada en 1991. Python es conocido por su simplicidad y legibilidad, lo que facilita el aprendizaje y la escritura de código. Se utiliza ampliamente en diversas áreas, como desarrollo web, análisis de datos, inteligencia artificial, automatización, desarrollo de videojuegos y muchas otras aplicaciones\n",
    "\n",
    "Python se ha utilizado en la creación de muchas aplicaciones y sitios web populares debido a su versatilidad y facilidad de uso. Algunos ejemplos notables incluyen:\n",
    "\n",
    "* Instagram\n",
    "* Spotify\n",
    "* Youtube\n",
    "* Dropbox\n",
    "* Reddit\n",
    "* Pinterest\n",
    "\n"
   ]
  },
  {
   "cell_type": "markdown",
   "metadata": {
    "id": "nzvpfCkjwQ7h"
   },
   "source": [
    "# **2) Python para la ciencia de datos**\n",
    "\n",
    "Según lo revelado por los resultados de una encuesta realizada por Kaggle una plataforna de científicos de datos, Python es el más usado en cuanto a lenguaje de programación, seguido de SQL y R para el tema de ciencia de Datos\n",
    "\n",
    "Python es uno de los lenguajes de programación más populares y versátiles utilizados en la ciencia de datos. Gracias a su simplicidad y a su amplia variedad de bibliotecas especializadas, Python se ha convertido en una herramienta esencial para científicos de datos, analistas y desarrolladores de todo el mundo.\n",
    "\n",
    "A continuación se presentan algunas bibliotecas y herramientas clave de Python para la ciencia de datos:\n",
    "\n",
    "* NumPy: Biblioteca de Python para realizar operaciones matemáticas y de álgebra lineal con arreglos multidimensionales y funciones matriciales.\n",
    "\n",
    "* pandas: Biblioteca para la manipulación y análisis de datos que proporciona estructuras de datos como DataFrames y Series, que facilitan el trabajo con datos estructurados.\n",
    "\n",
    "* Matplotlib: Biblioteca para la creación de gráficos y visualizaciones en 2D y 3D, permitiendo la representación de datos de manera efectiva y personalizada.\n",
    "\n",
    "* seaborn: Basada en Matplotlib, seaborn es una biblioteca de visualización de datos estadísticos que proporciona una interfaz de alto nivel para crear gráficos informativos y atractivos.\n",
    "\n",
    "* SciPy: Extiende las capacidades de NumPy al incluir funciones adicionales para optimización, álgebra lineal, integración, interpolación, estadísticas, entre otras.\n",
    "\n",
    "* scikit-learn: Biblioteca de aprendizaje automático (machine learning) que incluye herramientas para clasificación, regresión, clustering, reducción de dimensionalidad, selección de modelos y preprocesamiento de datos.\n",
    "\n",
    "* TensorFlow: Desarrollada por Google, TensorFlow es una biblioteca de código abierto para la creación y entrenamiento de modelos de aprendizaje profundo (deep learning) y aprendizaje automático.\n",
    "\n",
    "* Keras: Interfaz de alto nivel para TensorFlow y otras bibliotecas de aprendizaje profundo que simplifica la creación y el entrenamiento de redes neuronales.\n",
    "\n",
    "* PyTorch: Desarrollada por Facebook, PyTorch es otra biblioteca de aprendizaje profundo que facilita la creación de modelos de aprendizaje automático con mayor flexibilidad y dinamismo.\n",
    "\n",
    "* Jupyter Notebook: Entorno de desarrollo interactivo basado en navegador para crear y compartir documentos que contienen código, ecuaciones, visualizaciones y texto explicativo.\n",
    "\n",
    "* Stastmodels: R de python\n"
   ]
  },
  {
   "cell_type": "markdown",
   "metadata": {
    "id": "QHPXwDRR3kl-"
   },
   "source": [
    "# **3) Fundamentos de Programación en Python**"
   ]
  },
  {
   "cell_type": "markdown",
   "metadata": {
    "id": "UckJxiuo4lTX"
   },
   "source": [
    "## **3.1) Usando Python como Calculadora**"
   ]
  },
  {
   "cell_type": "code",
   "execution_count": 1,
   "metadata": {
    "colab": {
     "base_uri": "https://localhost:8080/"
    },
    "id": "5nnO5jGx47H4",
    "outputId": "6047511b-fd42-4f87-aa2b-77ad296d6ce4"
   },
   "outputs": [
    {
     "data": {
      "text/plain": [
       "154"
      ]
     },
     "execution_count": 1,
     "metadata": {},
     "output_type": "execute_result"
    }
   ],
   "source": [
    "# Sumar en python\n",
    "65+89"
   ]
  },
  {
   "cell_type": "code",
   "execution_count": 2,
   "metadata": {
    "colab": {
     "base_uri": "https://localhost:8080/"
    },
    "id": "6ZYbcI8549d_",
    "outputId": "54201691-ef2e-4abe-98e5-1c429e0456a2"
   },
   "outputs": [
    {
     "data": {
      "text/plain": [
       "75"
      ]
     },
     "execution_count": 2,
     "metadata": {},
     "output_type": "execute_result"
    }
   ],
   "source": [
    "## Restar Python\n",
    "100-25"
   ]
  },
  {
   "cell_type": "code",
   "execution_count": 3,
   "metadata": {
    "colab": {
     "base_uri": "https://localhost:8080/"
    },
    "id": "0ujTnYVZ5HGz",
    "outputId": "9625927a-190d-4398-b9c1-794dac646f17"
   },
   "outputs": [
    {
     "data": {
      "text/plain": [
       "150"
      ]
     },
     "execution_count": 3,
     "metadata": {},
     "output_type": "execute_result"
    }
   ],
   "source": [
    "## Multiplicar\n",
    "6*25"
   ]
  },
  {
   "cell_type": "code",
   "execution_count": 4,
   "metadata": {
    "colab": {
     "base_uri": "https://localhost:8080/"
    },
    "id": "_pI_CLjx5J9y",
    "outputId": "7b5a2df0-6157-4b57-bf2a-366b966db527"
   },
   "outputs": [
    {
     "data": {
      "text/plain": [
       "50.0"
      ]
     },
     "execution_count": 4,
     "metadata": {},
     "output_type": "execute_result"
    }
   ],
   "source": [
    "## Dividir en Python\n",
    "100/2"
   ]
  },
  {
   "cell_type": "markdown",
   "metadata": {
    "id": "-oGstpNZ6JqL"
   },
   "source": [
    "## **3.2) Sintaxis y estructura básica de Python:**\n",
    "\n",
    "* Variables y tipos de datos (números, cadenas, listas, tuplas, conjuntos, diccionarios)\n",
    "* Operadores (aritméticos, de asignación, de comparación, lógicos, de identidad, de pertenencia)\n",
    "* Control de flujo (condicionales: if, elif, else; bucles: for, while)"
   ]
  },
  {
   "cell_type": "markdown",
   "metadata": {
    "id": "mtzO7l8G6Tv7"
   },
   "source": [
    "### **3.2.1 Variables**\n",
    "\n",
    "¿Que es una Variable?\n",
    "\n",
    "\"En programación, una variable está formada por un espacio en el sistema de almacenaje (memoria principal de un ordenador) y un nombre simbólico (un identificador) que está asociado a dicho espacio. Ese espacio contiene una cantidad de información conocida o desconocida, es decir un valor. El nombre de la variable es la forma usual de referirse al valor almacenado\""
   ]
  },
  {
   "cell_type": "markdown",
   "metadata": {
    "id": "vHcoE0kp7Tgi"
   },
   "source": [
    "**Variables Númericas**"
   ]
  },
  {
   "cell_type": "code",
   "execution_count": 5,
   "metadata": {
    "colab": {
     "base_uri": "https://localhost:8080/"
    },
    "id": "8TSclQlj5PdD",
    "outputId": "02a49372-57cc-4794-96ad-f881dc052819"
   },
   "outputs": [
    {
     "data": {
      "text/plain": [
       "45"
      ]
     },
     "execution_count": 5,
     "metadata": {},
     "output_type": "execute_result"
    }
   ],
   "source": [
    "## Enteras\n",
    "Edad=45\n",
    "Edad"
   ]
  },
  {
   "cell_type": "code",
   "execution_count": 6,
   "metadata": {
    "colab": {
     "base_uri": "https://localhost:8080/"
    },
    "id": "ubTEAohX7uAi",
    "outputId": "758375ff-71d3-4033-c9b4-4905f04292c5"
   },
   "outputs": [
    {
     "name": "stdout",
     "output_type": "stream",
     "text": [
      "45\n"
     ]
    }
   ],
   "source": [
    "print(Edad)"
   ]
  },
  {
   "cell_type": "code",
   "execution_count": 7,
   "metadata": {
    "colab": {
     "base_uri": "https://localhost:8080/"
    },
    "id": "A3eIkPc871El",
    "outputId": "cd9f177d-7ce8-4695-81f1-7639d82fb334"
   },
   "outputs": [
    {
     "name": "stdout",
     "output_type": "stream",
     "text": [
      "El valor de la variable edad es: 45 años\n"
     ]
    }
   ],
   "source": [
    "print(f'El valor de la variable edad es: {Edad} años')"
   ]
  },
  {
   "cell_type": "code",
   "execution_count": 8,
   "metadata": {
    "id": "W9V9S-mZ8BIW"
   },
   "outputs": [],
   "source": [
    "## Decimales\n",
    "Pi=3.14"
   ]
  },
  {
   "cell_type": "code",
   "execution_count": 9,
   "metadata": {
    "colab": {
     "base_uri": "https://localhost:8080/"
    },
    "id": "doQIAfiw8Ocp",
    "outputId": "f12f0e79-3e0b-4254-ecc8-1aab59735d20"
   },
   "outputs": [
    {
     "name": "stdout",
     "output_type": "stream",
     "text": [
      "El valor de la variable Pi es: 3.14 \n"
     ]
    }
   ],
   "source": [
    "print(f'El valor de la variable Pi es: {Pi} ')"
   ]
  },
  {
   "cell_type": "code",
   "execution_count": 10,
   "metadata": {
    "colab": {
     "base_uri": "https://localhost:8080/"
    },
    "id": "xPWxQsjS8S7p",
    "outputId": "29751c80-4a83-471f-a87a-c8c38bbe55cf"
   },
   "outputs": [
    {
     "data": {
      "text/plain": [
       "int"
      ]
     },
     "execution_count": 10,
     "metadata": {},
     "output_type": "execute_result"
    }
   ],
   "source": [
    "## Type datos\n",
    "type(Edad)"
   ]
  },
  {
   "cell_type": "code",
   "execution_count": 11,
   "metadata": {
    "colab": {
     "base_uri": "https://localhost:8080/"
    },
    "id": "TLHxBU9-8eYL",
    "outputId": "935af1ea-ee35-4e49-92aa-1b6af714f618"
   },
   "outputs": [
    {
     "data": {
      "text/plain": [
       "float"
      ]
     },
     "execution_count": 11,
     "metadata": {},
     "output_type": "execute_result"
    }
   ],
   "source": [
    "type(Pi)"
   ]
  },
  {
   "cell_type": "code",
   "execution_count": 12,
   "metadata": {
    "colab": {
     "base_uri": "https://localhost:8080/"
    },
    "id": "xTuMR0NJAjqy",
    "outputId": "4ef1be4e-4279-424d-ebce-981c9bd4b7fd"
   },
   "outputs": [
    {
     "data": {
      "text/plain": [
       "3"
      ]
     },
     "execution_count": 12,
     "metadata": {},
     "output_type": "execute_result"
    }
   ],
   "source": [
    "### Transformar un float a int\n",
    "Pi_Entero=int(Pi)\n",
    "Pi_Entero"
   ]
  },
  {
   "cell_type": "code",
   "execution_count": 13,
   "metadata": {
    "colab": {
     "base_uri": "https://localhost:8080/"
    },
    "id": "SQlGNb5k8gU6",
    "outputId": "96a7f2ee-3335-4a3a-eb06-e10d38933b34"
   },
   "outputs": [
    {
     "data": {
      "text/plain": [
       "45.0"
      ]
     },
     "execution_count": 13,
     "metadata": {},
     "output_type": "execute_result"
    }
   ],
   "source": [
    "## Pasa de un int a un float\n",
    "Edad_Float=float(Edad)\n",
    "Edad_Float"
   ]
  },
  {
   "cell_type": "code",
   "execution_count": 14,
   "metadata": {
    "colab": {
     "base_uri": "https://localhost:8080/"
    },
    "id": "cecJhD6OA3xB",
    "outputId": "e58cff8c-213d-409b-89c3-06c261468a25"
   },
   "outputs": [
    {
     "data": {
      "text/plain": [
       "90"
      ]
     },
     "execution_count": 14,
     "metadata": {},
     "output_type": "execute_result"
    }
   ],
   "source": [
    "Edad*2"
   ]
  },
  {
   "cell_type": "code",
   "execution_count": 15,
   "metadata": {
    "colab": {
     "base_uri": "https://localhost:8080/"
    },
    "id": "Y9jTfBOeA_rS",
    "outputId": "19ff9786-dccc-4d50-ab13-a283a424b9e7"
   },
   "outputs": [
    {
     "data": {
      "text/plain": [
       "22.5"
      ]
     },
     "execution_count": 15,
     "metadata": {},
     "output_type": "execute_result"
    }
   ],
   "source": [
    "Edad/2"
   ]
  },
  {
   "cell_type": "code",
   "execution_count": 16,
   "metadata": {
    "colab": {
     "base_uri": "https://localhost:8080/"
    },
    "id": "GuQ4FTB-BCik",
    "outputId": "82ee6f1f-705e-4798-a16d-4b3c04400f94"
   },
   "outputs": [
    {
     "data": {
      "text/plain": [
       "90"
      ]
     },
     "execution_count": 16,
     "metadata": {},
     "output_type": "execute_result"
    }
   ],
   "source": [
    "Edad+45"
   ]
  },
  {
   "cell_type": "code",
   "execution_count": 17,
   "metadata": {
    "colab": {
     "base_uri": "https://localhost:8080/"
    },
    "id": "P6cxpyyQBEXz",
    "outputId": "d0a1b684-1c35-445b-c6a6-357f7f20a8cf"
   },
   "outputs": [
    {
     "data": {
      "text/plain": [
       "0"
      ]
     },
     "execution_count": 17,
     "metadata": {},
     "output_type": "execute_result"
    }
   ],
   "source": [
    "Edad-45"
   ]
  },
  {
   "cell_type": "code",
   "execution_count": 18,
   "metadata": {
    "id": "9yeRXTY2BG_0"
   },
   "outputs": [],
   "source": [
    "## Variables String, Texto, se generan con \"\", ''\n",
    "Nombre=\"Sara\"\n",
    "Nombre1='Fabian'"
   ]
  },
  {
   "cell_type": "code",
   "execution_count": 19,
   "metadata": {
    "colab": {
     "base_uri": "https://localhost:8080/"
    },
    "id": "sKzAR9UdBd4j",
    "outputId": "7e3b7312-a164-434d-96e5-9a847c348e9f"
   },
   "outputs": [
    {
     "name": "stdout",
     "output_type": "stream",
     "text": [
      "Sara\n",
      "Fabian\n"
     ]
    }
   ],
   "source": [
    "print(Nombre)\n",
    "print(Nombre1)"
   ]
  },
  {
   "cell_type": "code",
   "execution_count": 20,
   "metadata": {
    "colab": {
     "base_uri": "https://localhost:8080/"
    },
    "id": "hP_elLPHBgtY",
    "outputId": "18281c95-f817-4e9b-da17-26e0a395a73e"
   },
   "outputs": [
    {
     "data": {
      "text/plain": [
       "str"
      ]
     },
     "execution_count": 20,
     "metadata": {},
     "output_type": "execute_result"
    }
   ],
   "source": [
    "type(Nombre)"
   ]
  },
  {
   "cell_type": "code",
   "execution_count": 21,
   "metadata": {
    "id": "LeeD3iSYBjqG"
   },
   "outputs": [],
   "source": [
    "Vuelos=\"500\""
   ]
  },
  {
   "cell_type": "code",
   "execution_count": 22,
   "metadata": {
    "colab": {
     "base_uri": "https://localhost:8080/"
    },
    "id": "u5qHvigjB61o",
    "outputId": "977bce5c-4bde-4c02-b0ba-599473874c49"
   },
   "outputs": [
    {
     "data": {
      "text/plain": [
       "str"
      ]
     },
     "execution_count": 22,
     "metadata": {},
     "output_type": "execute_result"
    }
   ],
   "source": [
    "type(Vuelos)"
   ]
  },
  {
   "cell_type": "code",
   "execution_count": 23,
   "metadata": {
    "id": "LL9vlO2wB9wZ"
   },
   "outputs": [],
   "source": [
    "### Concatenar String\n",
    "Apellido=\"Villarraga\""
   ]
  },
  {
   "cell_type": "code",
   "execution_count": 24,
   "metadata": {
    "id": "ypKVjg54CM26"
   },
   "outputs": [],
   "source": [
    "NombreCompleto=Nombre+\" \"+Apellido"
   ]
  },
  {
   "cell_type": "code",
   "execution_count": 25,
   "metadata": {
    "colab": {
     "base_uri": "https://localhost:8080/",
     "height": 36
    },
    "id": "CzaxXmPBCRnM",
    "outputId": "6f0a3b1e-eb4c-4d09-b5df-2c9d35d03b8a"
   },
   "outputs": [
    {
     "data": {
      "text/plain": [
       "'Sara Villarraga'"
      ]
     },
     "execution_count": 25,
     "metadata": {},
     "output_type": "execute_result"
    }
   ],
   "source": [
    "NombreCompleto"
   ]
  },
  {
   "cell_type": "code",
   "execution_count": 26,
   "metadata": {
    "colab": {
     "base_uri": "https://localhost:8080/",
     "height": 157
    },
    "id": "SSJbJV6ZCTsr",
    "outputId": "b89496fc-58c9-4825-d612-7f2376bbafa3"
   },
   "outputs": [
    {
     "data": {
      "text/plain": [
       "'Sara VillarragaSara VillarragaSara VillarragaSara VillarragaSara VillarragaSara VillarragaSara VillarragaSara VillarragaSara VillarragaSara VillarragaSara VillarragaSara VillarragaSara VillarragaSara VillarragaSara VillarragaSara VillarragaSara VillarragaSara VillarragaSara VillarragaSara VillarragaSara VillarragaSara VillarragaSara VillarragaSara VillarragaSara VillarragaSara VillarragaSara VillarragaSara VillarragaSara VillarragaSara VillarragaSara VillarragaSara VillarragaSara VillarragaSara VillarragaSara VillarragaSara VillarragaSara VillarragaSara VillarragaSara VillarragaSara VillarragaSara VillarragaSara VillarragaSara VillarragaSara VillarragaSara VillarragaSara VillarragaSara VillarragaSara VillarragaSara VillarragaSara VillarragaSara VillarragaSara VillarragaSara VillarragaSara VillarragaSara VillarragaSara VillarragaSara VillarragaSara VillarragaSara VillarragaSara VillarragaSara VillarragaSara VillarragaSara VillarragaSara VillarragaSara VillarragaSara VillarragaSara VillarragaSara VillarragaSara VillarragaSara VillarragaSara VillarragaSara VillarragaSara VillarragaSara VillarragaSara VillarragaSara VillarragaSara VillarragaSara VillarragaSara VillarragaSara VillarragaSara VillarragaSara VillarragaSara VillarragaSara VillarragaSara VillarragaSara VillarragaSara VillarragaSara VillarragaSara VillarragaSara VillarragaSara VillarragaSara VillarragaSara VillarragaSara VillarragaSara VillarragaSara VillarragaSara VillarragaSara VillarragaSara VillarragaSara Villarraga'"
      ]
     },
     "execution_count": 26,
     "metadata": {},
     "output_type": "execute_result"
    }
   ],
   "source": [
    "NombreCompleto*100"
   ]
  },
  {
   "cell_type": "code",
   "execution_count": 27,
   "metadata": {
    "colab": {
     "base_uri": "https://localhost:8080/",
     "height": 36
    },
    "id": "BRkfeoCoCp7O",
    "outputId": "b4e37716-e4c4-4602-db35-735ff71991dc"
   },
   "outputs": [
    {
     "data": {
      "text/plain": [
       "'S'"
      ]
     },
     "execution_count": 27,
     "metadata": {},
     "output_type": "execute_result"
    }
   ],
   "source": [
    "## Acceder a las letras del string, la primera posición en python es 0\n",
    "NombreCompleto[0]"
   ]
  },
  {
   "cell_type": "code",
   "execution_count": 28,
   "metadata": {
    "colab": {
     "base_uri": "https://localhost:8080/"
    },
    "id": "GMlrgi-wCxNw",
    "outputId": "36b3d05d-8dff-433a-f51f-8c08e36623bb"
   },
   "outputs": [
    {
     "data": {
      "text/plain": [
       "15"
      ]
     },
     "execution_count": 28,
     "metadata": {},
     "output_type": "execute_result"
    }
   ],
   "source": [
    "len(NombreCompleto) ## Len nos da la cantidad de elementos"
   ]
  },
  {
   "cell_type": "code",
   "execution_count": 29,
   "metadata": {
    "colab": {
     "base_uri": "https://localhost:8080/",
     "height": 36
    },
    "id": "u_YMgFFYC-tA",
    "outputId": "5b4ba67e-2a92-4c70-ac0f-98268ff7b3a3"
   },
   "outputs": [
    {
     "data": {
      "text/plain": [
       "'a'"
      ]
     },
     "execution_count": 29,
     "metadata": {},
     "output_type": "execute_result"
    }
   ],
   "source": [
    "NombreCompleto[14] ## última posición"
   ]
  },
  {
   "cell_type": "code",
   "execution_count": 30,
   "metadata": {
    "colab": {
     "base_uri": "https://localhost:8080/",
     "height": 36
    },
    "id": "Ge92GLoqDFJS",
    "outputId": "0634fdb6-7077-464f-deee-0a81a896b70b"
   },
   "outputs": [
    {
     "data": {
      "text/plain": [
       "'a'"
      ]
     },
     "execution_count": 30,
     "metadata": {},
     "output_type": "execute_result"
    }
   ],
   "source": [
    "NombreCompleto[-1] ## última posición"
   ]
  },
  {
   "cell_type": "code",
   "execution_count": 31,
   "metadata": {
    "colab": {
     "base_uri": "https://localhost:8080/",
     "height": 36
    },
    "id": "eoPgMIllDNSG",
    "outputId": "345e75d0-81d8-4a11-ef07-5a3ea0b026bb"
   },
   "outputs": [
    {
     "data": {
      "text/plain": [
       "'g'"
      ]
     },
     "execution_count": 31,
     "metadata": {},
     "output_type": "execute_result"
    }
   ],
   "source": [
    "NombreCompleto[-2]"
   ]
  },
  {
   "cell_type": "code",
   "execution_count": 32,
   "metadata": {
    "colab": {
     "base_uri": "https://localhost:8080/",
     "height": 36
    },
    "id": "e0sNhIoRDUnD",
    "outputId": "330adac0-f8fa-4cbf-9060-7e1acc71367f"
   },
   "outputs": [
    {
     "data": {
      "text/plain": [
       "'a'"
      ]
     },
     "execution_count": 32,
     "metadata": {},
     "output_type": "execute_result"
    }
   ],
   "source": [
    "NombreCompleto[-3]"
   ]
  },
  {
   "cell_type": "code",
   "execution_count": 33,
   "metadata": {
    "colab": {
     "base_uri": "https://localhost:8080/",
     "height": 36
    },
    "id": "_1ZaSlezDXYD",
    "outputId": "e9b5c53a-b2ad-4c30-f83f-30213764f492"
   },
   "outputs": [
    {
     "data": {
      "text/plain": [
       "'Sara'"
      ]
     },
     "execution_count": 33,
     "metadata": {},
     "output_type": "execute_result"
    }
   ],
   "source": [
    "NombreCompleto[0:4]"
   ]
  },
  {
   "cell_type": "code",
   "execution_count": 34,
   "metadata": {
    "colab": {
     "base_uri": "https://localhost:8080/",
     "height": 36
    },
    "id": "yP9euOtiDcr1",
    "outputId": "c1ba13cc-88ee-44ce-8e01-33ba2c31a83b"
   },
   "outputs": [
    {
     "data": {
      "text/plain": [
       "'Sara Villarraga'"
      ]
     },
     "execution_count": 34,
     "metadata": {},
     "output_type": "execute_result"
    }
   ],
   "source": [
    "NombreCompleto"
   ]
  },
  {
   "cell_type": "code",
   "execution_count": 35,
   "metadata": {
    "colab": {
     "base_uri": "https://localhost:8080/"
    },
    "id": "qAVfY-phDpV2",
    "outputId": "98d9d0a7-eccf-43f1-8412-1ee9f279a855"
   },
   "outputs": [
    {
     "data": {
      "text/plain": [
       "['Sara', 'Villarraga']"
      ]
     },
     "execution_count": 35,
     "metadata": {},
     "output_type": "execute_result"
    }
   ],
   "source": [
    "## Separar String\n",
    "NombreCompleto.split(\" \")"
   ]
  },
  {
   "cell_type": "markdown",
   "metadata": {
    "id": "mEEeUcm-EC_V"
   },
   "source": [
    "### **3.2.2) Extructuras de Datos**\n",
    "\n",
    "Las estructuras de datos más comunes en Python son las listas, las tablas y los diccionarios"
   ]
  },
  {
   "cell_type": "markdown",
   "metadata": {
    "id": "EOXF4nUxEThE"
   },
   "source": [
    "**Listas**\n",
    "\n",
    "Una lista en Python es una estructura de datos formada por una secuencia ordenada de objetos"
   ]
  },
  {
   "cell_type": "code",
   "execution_count": 36,
   "metadata": {
    "id": "nSQs1PcrDybn"
   },
   "outputs": [],
   "source": [
    "## Una lista siempre se crea con []\n",
    "Lista_Edades=[] ## Una lista Vacia"
   ]
  },
  {
   "cell_type": "code",
   "execution_count": 37,
   "metadata": {
    "colab": {
     "base_uri": "https://localhost:8080/"
    },
    "id": "YszoDzhkEiEI",
    "outputId": "56ada046-9274-41dd-8c4b-3d6120c8eda8"
   },
   "outputs": [
    {
     "data": {
      "text/plain": [
       "[]"
      ]
     },
     "execution_count": 37,
     "metadata": {},
     "output_type": "execute_result"
    }
   ],
   "source": [
    "Lista_Edades"
   ]
  },
  {
   "cell_type": "code",
   "execution_count": 38,
   "metadata": {
    "colab": {
     "base_uri": "https://localhost:8080/"
    },
    "id": "UaqmuF9VEjLu",
    "outputId": "912083df-d40b-489b-db20-1b3fc38377fb"
   },
   "outputs": [
    {
     "data": {
      "text/plain": [
       "list"
      ]
     },
     "execution_count": 38,
     "metadata": {},
     "output_type": "execute_result"
    }
   ],
   "source": [
    "type(Lista_Edades)"
   ]
  },
  {
   "cell_type": "code",
   "execution_count": 39,
   "metadata": {
    "id": "YZMzJJvYEnh9"
   },
   "outputs": [],
   "source": [
    "Lista_Edades=[24,35,56,41,30,22,18,17,10]"
   ]
  },
  {
   "cell_type": "code",
   "execution_count": 40,
   "metadata": {
    "colab": {
     "base_uri": "https://localhost:8080/"
    },
    "id": "6HszM6_lEx-u",
    "outputId": "546b2539-3a4e-4eb2-d946-802ae6c6a0bf"
   },
   "outputs": [
    {
     "name": "stdout",
     "output_type": "stream",
     "text": [
      "[24, 35, 56, 41, 30, 22, 18, 17, 10]\n"
     ]
    }
   ],
   "source": [
    "print(Lista_Edades)"
   ]
  },
  {
   "cell_type": "code",
   "execution_count": 41,
   "metadata": {
    "colab": {
     "base_uri": "https://localhost:8080/"
    },
    "id": "GnuzdrIiE0uf",
    "outputId": "25f0ab9b-a649-48b8-bc85-54d6e73e4fba"
   },
   "outputs": [
    {
     "data": {
      "text/plain": [
       "24"
      ]
     },
     "execution_count": 41,
     "metadata": {},
     "output_type": "execute_result"
    }
   ],
   "source": [
    "## Acceder a la información\n",
    "Lista_Edades[0]"
   ]
  },
  {
   "cell_type": "code",
   "execution_count": 42,
   "metadata": {
    "colab": {
     "base_uri": "https://localhost:8080/"
    },
    "id": "XmfilzfIFc9t",
    "outputId": "f0119d78-f257-424d-e477-5806704087ec"
   },
   "outputs": [
    {
     "data": {
      "text/plain": [
       "56"
      ]
     },
     "execution_count": 42,
     "metadata": {},
     "output_type": "execute_result"
    }
   ],
   "source": [
    "Lista_Edades[2]"
   ]
  },
  {
   "cell_type": "code",
   "execution_count": 43,
   "metadata": {
    "colab": {
     "base_uri": "https://localhost:8080/"
    },
    "id": "qZJyZ2sJFhtN",
    "outputId": "b09061fc-07f7-4d4f-a004-87a9c07731dc"
   },
   "outputs": [
    {
     "data": {
      "text/plain": [
       "9"
      ]
     },
     "execution_count": 43,
     "metadata": {},
     "output_type": "execute_result"
    }
   ],
   "source": [
    "len(Lista_Edades) # Elementos de la lista"
   ]
  },
  {
   "cell_type": "code",
   "execution_count": 44,
   "metadata": {
    "colab": {
     "base_uri": "https://localhost:8080/"
    },
    "id": "4mJDPzg0FfFM",
    "outputId": "4a68b5e5-d2a4-42af-9b9f-0a57ff6c5c06"
   },
   "outputs": [
    {
     "data": {
      "text/plain": [
       "10"
      ]
     },
     "execution_count": 44,
     "metadata": {},
     "output_type": "execute_result"
    }
   ],
   "source": [
    "Lista_Edades[8]"
   ]
  },
  {
   "cell_type": "code",
   "execution_count": 45,
   "metadata": {
    "colab": {
     "base_uri": "https://localhost:8080/"
    },
    "id": "95LWq1SbFmEO",
    "outputId": "cb8286a8-5563-4ed5-b15b-8b44fa596d68"
   },
   "outputs": [
    {
     "data": {
      "text/plain": [
       "10"
      ]
     },
     "execution_count": 45,
     "metadata": {},
     "output_type": "execute_result"
    }
   ],
   "source": [
    "Lista_Edades[-1] # último dato"
   ]
  },
  {
   "cell_type": "code",
   "execution_count": 46,
   "metadata": {
    "colab": {
     "base_uri": "https://localhost:8080/"
    },
    "id": "iivucn-CFo4t",
    "outputId": "bb5ddaf2-f069-497e-da95-8952d1ae84ab"
   },
   "outputs": [
    {
     "data": {
      "text/plain": [
       "17"
      ]
     },
     "execution_count": 46,
     "metadata": {},
     "output_type": "execute_result"
    }
   ],
   "source": [
    "Lista_Edades[-2] # último dato"
   ]
  },
  {
   "cell_type": "code",
   "execution_count": 47,
   "metadata": {
    "colab": {
     "base_uri": "https://localhost:8080/"
    },
    "id": "VwZjgYBeFspt",
    "outputId": "0d09d346-eef9-4a18-bc44-7d8ab726f32f"
   },
   "outputs": [
    {
     "data": {
      "text/plain": [
       "[24, 35, 56]"
      ]
     },
     "execution_count": 47,
     "metadata": {},
     "output_type": "execute_result"
    }
   ],
   "source": [
    "Lista_Edades[0:3] "
   ]
  },
  {
   "cell_type": "code",
   "execution_count": 48,
   "metadata": {
    "id": "iqSiWRtxFyZv"
   },
   "outputs": [],
   "source": [
    "## Agregar Datos Nuevos con el comando append, siempre agrega al final el dato"
   ]
  },
  {
   "cell_type": "code",
   "execution_count": 49,
   "metadata": {
    "id": "H1YlTvjSF6ff"
   },
   "outputs": [],
   "source": [
    "Lista_Edades.append(102)"
   ]
  },
  {
   "cell_type": "code",
   "execution_count": 50,
   "metadata": {
    "colab": {
     "base_uri": "https://localhost:8080/"
    },
    "id": "3Ko6Rvd0F-Nw",
    "outputId": "6648e3b5-b1a7-44ce-f1ae-ae2af84501c3"
   },
   "outputs": [
    {
     "data": {
      "text/plain": [
       "[24, 35, 56, 41, 30, 22, 18, 17, 10, 102]"
      ]
     },
     "execution_count": 50,
     "metadata": {},
     "output_type": "execute_result"
    }
   ],
   "source": [
    "Lista_Edades"
   ]
  },
  {
   "cell_type": "code",
   "execution_count": 51,
   "metadata": {
    "id": "tAHc1bX3F-8v"
   },
   "outputs": [],
   "source": [
    "Lista_Edades.append(12)"
   ]
  },
  {
   "cell_type": "code",
   "execution_count": 52,
   "metadata": {
    "colab": {
     "base_uri": "https://localhost:8080/"
    },
    "id": "_7rV1R7NGAs_",
    "outputId": "15a2e8bb-2f14-4184-de13-af716c80f01b"
   },
   "outputs": [
    {
     "data": {
      "text/plain": [
       "[24, 35, 56, 41, 30, 22, 18, 17, 10, 102, 12]"
      ]
     },
     "execution_count": 52,
     "metadata": {},
     "output_type": "execute_result"
    }
   ],
   "source": [
    "Lista_Edades"
   ]
  },
  {
   "cell_type": "code",
   "execution_count": 53,
   "metadata": {
    "id": "P4eGAGLqGBVg"
   },
   "outputs": [],
   "source": [
    "## Agregar manipulando la posición\n",
    "Lista_Edades.insert(0,15)"
   ]
  },
  {
   "cell_type": "code",
   "execution_count": 54,
   "metadata": {
    "colab": {
     "base_uri": "https://localhost:8080/"
    },
    "id": "sSc9toJwGNqh",
    "outputId": "5505d3e2-99fd-4e61-db77-e353ca20e59a"
   },
   "outputs": [
    {
     "data": {
      "text/plain": [
       "[15, 24, 35, 56, 41, 30, 22, 18, 17, 10, 102, 12]"
      ]
     },
     "execution_count": 54,
     "metadata": {},
     "output_type": "execute_result"
    }
   ],
   "source": [
    "Lista_Edades"
   ]
  },
  {
   "cell_type": "code",
   "execution_count": 55,
   "metadata": {
    "id": "IS4TAwlEGOeQ"
   },
   "outputs": [],
   "source": [
    "Lista_Edades.insert(0,25)"
   ]
  },
  {
   "cell_type": "code",
   "execution_count": 56,
   "metadata": {
    "colab": {
     "base_uri": "https://localhost:8080/"
    },
    "id": "1NQjKzt4GRWx",
    "outputId": "530de7aa-50ef-48f8-beb7-c55d12747ad7"
   },
   "outputs": [
    {
     "data": {
      "text/plain": [
       "[25, 15, 24, 35, 56, 41, 30, 22, 18, 17, 10, 102, 12]"
      ]
     },
     "execution_count": 56,
     "metadata": {},
     "output_type": "execute_result"
    }
   ],
   "source": [
    "Lista_Edades"
   ]
  },
  {
   "cell_type": "code",
   "execution_count": 57,
   "metadata": {
    "id": "wW9k3YsdGSCS"
   },
   "outputs": [],
   "source": [
    "Lista_Edades.insert(2,25)"
   ]
  },
  {
   "cell_type": "code",
   "execution_count": 58,
   "metadata": {
    "colab": {
     "base_uri": "https://localhost:8080/"
    },
    "id": "OE8-LRaRGVKy",
    "outputId": "80008271-a959-484f-db70-b2296c65693a"
   },
   "outputs": [
    {
     "data": {
      "text/plain": [
       "[25, 15, 25, 24, 35, 56, 41, 30, 22, 18, 17, 10, 102, 12]"
      ]
     },
     "execution_count": 58,
     "metadata": {},
     "output_type": "execute_result"
    }
   ],
   "source": [
    "Lista_Edades"
   ]
  },
  {
   "cell_type": "markdown",
   "metadata": {
    "id": "9eJGWPxjGd83"
   },
   "source": [
    "# **Ejercicio**\n",
    "\n",
    "\n",
    "• Ejercicio 1: Encuentre el área de un triángulo rectángulo isósceles a partir de la longitud de sus catetos, ingresados por el usuario. Recuerde que un triángulo isósceles tiene dos lados iguales y que el área de un triángulo está dada por: (base * altura)/2"
   ]
  },
  {
   "cell_type": "code",
   "execution_count": 59,
   "metadata": {
    "colab": {
     "base_uri": "https://localhost:8080/"
    },
    "id": "-_-_Ic1LGXIS",
    "outputId": "3ccc4234-09ed-4f66-8b79-11105a7510fa"
   },
   "outputs": [
    {
     "name": "stdin",
     "output_type": "stream",
     "text": [
      "Ingrese su edad 25\n"
     ]
    }
   ],
   "source": [
    "Edad=int(input(\"Ingrese su edad\")) ## un input siempre genera un string"
   ]
  },
  {
   "cell_type": "code",
   "execution_count": 60,
   "metadata": {
    "colab": {
     "base_uri": "https://localhost:8080/"
    },
    "id": "Ikp-jRjUGz6R",
    "outputId": "b215bd2e-ce0d-4251-b520-3031924b295e"
   },
   "outputs": [
    {
     "data": {
      "text/plain": [
       "25"
      ]
     },
     "execution_count": 60,
     "metadata": {},
     "output_type": "execute_result"
    }
   ],
   "source": [
    "Edad"
   ]
  },
  {
   "cell_type": "code",
   "execution_count": 61,
   "metadata": {
    "colab": {
     "base_uri": "https://localhost:8080/"
    },
    "id": "8XhDVld0G1kU",
    "outputId": "afbcd89e-cd4e-4a17-c4bb-7f0bfe7fcefb"
   },
   "outputs": [
    {
     "data": {
      "text/plain": [
       "int"
      ]
     },
     "execution_count": 61,
     "metadata": {},
     "output_type": "execute_result"
    }
   ],
   "source": [
    "type(Edad)"
   ]
  },
  {
   "cell_type": "code",
   "execution_count": 62,
   "metadata": {
    "colab": {
     "base_uri": "https://localhost:8080/"
    },
    "id": "N5iZSJ3rG3Cl",
    "outputId": "000245bb-806d-49d7-f4b0-636794bcd062"
   },
   "outputs": [
    {
     "name": "stdin",
     "output_type": "stream",
     "text": [
      "Ingrese su año de nacimiento 1992\n"
     ]
    },
    {
     "name": "stdout",
     "output_type": "stream",
     "text": [
      "Su edad en el 2023 es: 31\n"
     ]
    }
   ],
   "source": [
    "## Usuario ingresa el año de nacimiento, yo le calculo la edad que tiene en el 2023\n",
    "Anio_Naciemiento=int(input(\"Ingrese su año de nacimiento\")) ## un input siempre genera un string\n",
    "EdadActual=2023-Anio_Naciemiento\n",
    "print(f'Su edad en el 2023 es: {EdadActual}')"
   ]
  },
  {
   "cell_type": "code",
   "execution_count": null,
   "metadata": {
    "id": "fydkaMSJHLBW"
   },
   "outputs": [],
   "source": []
  }
 ],
 "metadata": {
  "colab": {
   "provenance": [],
   "toc_visible": true
  },
  "gpuClass": "standard",
  "kernelspec": {
   "display_name": "Python 3 (ipykernel)",
   "language": "python",
   "name": "python3"
  },
  "language_info": {
   "codemirror_mode": {
    "name": "ipython",
    "version": 3
   },
   "file_extension": ".py",
   "mimetype": "text/x-python",
   "name": "python",
   "nbconvert_exporter": "python",
   "pygments_lexer": "ipython3",
   "version": "3.9.12"
  }
 },
 "nbformat": 4,
 "nbformat_minor": 4
}
