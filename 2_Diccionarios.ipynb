{
 "cells": [
  {
   "cell_type": "markdown",
   "id": "fbe7de05-6061-4f43-b01d-a4023438b5b4",
   "metadata": {},
   "source": [
    "# **Diccionario Python**\n",
    "\n",
    "En Python, un diccionario es una estructura de datos que permite almacenar pares clave-valor. Cada elemento en un diccionario se compone de una clave y un valor asociado. Las claves en un diccionario deben ser únicas y los valores pueden ser cualquier objeto de Python, como números, cadenas, listas o incluso otros diccionarios.\n",
    "\n",
    "Los diccionarios en Python se crean utilizando llaves ({}) y los elementos se separan por comas. Cada elemento se compone de una clave y un valor separados por dos puntos (:). Por ejemplo, el siguiente código crea un diccionario con tres elementos:"
   ]
  },
  {
   "cell_type": "code",
   "execution_count": 8,
   "id": "5b3d0858-4e7c-407e-89e0-ecfaa4907644",
   "metadata": {},
   "outputs": [],
   "source": [
    "PreciosFrutas = {\"manzanas\":9000,\"bananas\":500,\"naranjas\":1500}"
   ]
  },
  {
   "cell_type": "code",
   "execution_count": 9,
   "id": "838ffa4a-243d-4e60-ac62-b06a7e30df23",
   "metadata": {},
   "outputs": [
    {
     "data": {
      "text/plain": [
       "{'manzanas': 9000, 'bananas': 500, 'naranjas': 1500}"
      ]
     },
     "execution_count": 9,
     "metadata": {},
     "output_type": "execute_result"
    }
   ],
   "source": [
    "PreciosFrutas"
   ]
  },
  {
   "cell_type": "code",
   "execution_count": 10,
   "id": "834e0e7b-1ff6-4e62-9d2d-5404f0ead486",
   "metadata": {},
   "outputs": [
    {
     "data": {
      "text/plain": [
       "dict_keys(['manzanas', 'bananas', 'naranjas'])"
      ]
     },
     "execution_count": 10,
     "metadata": {},
     "output_type": "execute_result"
    }
   ],
   "source": [
    "## Key o claves\n",
    "PreciosFrutas.keys()"
   ]
  },
  {
   "cell_type": "code",
   "execution_count": 11,
   "id": "4c2390ce-242f-4727-b08e-a3454a36901c",
   "metadata": {},
   "outputs": [
    {
     "data": {
      "text/plain": [
       "dict_values([9000, 500, 1500])"
      ]
     },
     "execution_count": 11,
     "metadata": {},
     "output_type": "execute_result"
    }
   ],
   "source": [
    "## Valores\n",
    "PreciosFrutas.values()"
   ]
  },
  {
   "cell_type": "code",
   "execution_count": 13,
   "id": "793a596f-da97-4300-9aef-53b3b3fffc64",
   "metadata": {},
   "outputs": [
    {
     "data": {
      "text/plain": [
       "9000"
      ]
     },
     "execution_count": 13,
     "metadata": {},
     "output_type": "execute_result"
    }
   ],
   "source": [
    "## Acceder a la informacion de los diccionarios \n",
    "PreciosFrutas.get(\"manzanas\")"
   ]
  },
  {
   "cell_type": "code",
   "execution_count": 14,
   "id": "96b74ff1-286a-4fd4-b501-b2e435b9e030",
   "metadata": {},
   "outputs": [
    {
     "data": {
      "text/plain": [
       "500"
      ]
     },
     "execution_count": 14,
     "metadata": {},
     "output_type": "execute_result"
    }
   ],
   "source": [
    "## Otra forma de acceder a la informacion de los diccionarios \n",
    "PreciosFrutas['bananas']"
   ]
  },
  {
   "cell_type": "code",
   "execution_count": 15,
   "id": "c005f8da-500e-4cde-8917-7092920fdd81",
   "metadata": {},
   "outputs": [],
   "source": [
    "PreciosFrutas.clear()"
   ]
  },
  {
   "cell_type": "code",
   "execution_count": 16,
   "id": "f0e9a2bb-73c7-4388-a312-b7bd48934db9",
   "metadata": {},
   "outputs": [
    {
     "data": {
      "text/plain": [
       "{}"
      ]
     },
     "execution_count": 16,
     "metadata": {},
     "output_type": "execute_result"
    }
   ],
   "source": [
    "PreciosFrutas"
   ]
  },
  {
   "cell_type": "code",
   "execution_count": 18,
   "id": "a21cb99f-d65a-48aa-849c-6a18ed6e6639",
   "metadata": {},
   "outputs": [],
   "source": [
    "PreciosFrutas = {\"manzanas\":9000,\"bananas\":500,\"naranjas\":1500}"
   ]
  },
  {
   "cell_type": "code",
   "execution_count": 22,
   "id": "e5179005-24e7-47d7-a224-5817239309d2",
   "metadata": {},
   "outputs": [],
   "source": [
    "## Reemplazar un valor\n",
    "PreciosFrutas['bananas']=5000"
   ]
  },
  {
   "cell_type": "code",
   "execution_count": 23,
   "id": "1462a161-1688-46af-b3c8-81ec83212429",
   "metadata": {},
   "outputs": [
    {
     "data": {
      "text/plain": [
       "{'manzanas': 9000, 'bananas': 5000, 'naranjas': 1500}"
      ]
     },
     "execution_count": 23,
     "metadata": {},
     "output_type": "execute_result"
    }
   ],
   "source": [
    "PreciosFrutas"
   ]
  },
  {
   "cell_type": "code",
   "execution_count": null,
   "id": "2369d1dd-0a67-4573-a7c9-e04103809f8d",
   "metadata": {},
   "outputs": [],
   "source": []
  }
 ],
 "metadata": {
  "kernelspec": {
   "display_name": "Python 3 (ipykernel)",
   "language": "python",
   "name": "python3"
  },
  "language_info": {
   "codemirror_mode": {
    "name": "ipython",
    "version": 3
   },
   "file_extension": ".py",
   "mimetype": "text/x-python",
   "name": "python",
   "nbconvert_exporter": "python",
   "pygments_lexer": "ipython3",
   "version": "3.9.12"
  }
 },
 "nbformat": 4,
 "nbformat_minor": 5
}
