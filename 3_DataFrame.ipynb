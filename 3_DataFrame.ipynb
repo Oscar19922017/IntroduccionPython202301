{
 "cells": [
  {
   "cell_type": "markdown",
   "id": "4efa8404-3844-4a24-b25f-98ee7f906555",
   "metadata": {},
   "source": [
    "# **Librerias Python**\n",
    "\n",
    "En Python, una biblioteca (o librería) es un conjunto de módulos que proporcionan funcionalidades adicionales al lenguaje Python. Las bibliotecas se utilizan para extender las capacidades de Python más allá de las funciones incorporadas en el lenguaje.\n",
    "\n",
    "Librerias Populares:\n",
    "\n",
    "* Pandas: Biblioteca para la manipulación y análisis de datos que proporciona estructuras de datos como DataFrames y Series, que facilitan el trabajo con datos estructurados.\n",
    "\n",
    "\n",
    "https://pandas.pydata.org/docs/user_guide/index.html#user-guide\n",
    "\n",
    "* Numpy: Biblioteca de Python para realizar operaciones matemáticas y de álgebra lineal con arreglos multidimensionales y funciones matriciales\n"
   ]
  },
  {
   "cell_type": "code",
   "execution_count": 23,
   "id": "94784dec-9c00-42ea-bc53-8718014a1549",
   "metadata": {},
   "outputs": [],
   "source": [
    "import pandas as pd # con alias\n",
    "import numpy as np\n",
    "import os\n",
    "import warnings\n",
    "warnings.filterwarnings(\"ignore\",category=FutureWarning)"
   ]
  },
  {
   "cell_type": "code",
   "execution_count": 24,
   "id": "4fe2ea80-06da-4eb2-aada-0eb37832b052",
   "metadata": {},
   "outputs": [],
   "source": [
    "# Instalar \n",
    "#!pip install pandas\n",
    "#!conda install pandas"
   ]
  },
  {
   "cell_type": "markdown",
   "id": "dfd0cdec-a24e-478a-a97b-d7b447032810",
   "metadata": {},
   "source": [
    "# **Series Pandas**\n",
    "\n",
    "En Pandas, una serie es un objeto unidimensional que se utiliza para almacenar datos etiquetados. Las series son similares a las listas o arrays de NumPy, pero tienen la capacidad adicional de asignar etiquetas a los datos, lo que permite un acceso más rápido y fácil a los datos almacenados.\n"
   ]
  },
  {
   "cell_type": "code",
   "execution_count": 25,
   "id": "38e5e046-f108-449a-ae45-47d6478251c4",
   "metadata": {},
   "outputs": [
    {
     "data": {
      "text/plain": [
       "[25, 35, 46, 56, 18]"
      ]
     },
     "execution_count": 25,
     "metadata": {},
     "output_type": "execute_result"
    }
   ],
   "source": [
    "ListaEdad=[25,35,46,56,18]\n",
    "ListaEdad"
   ]
  },
  {
   "cell_type": "code",
   "execution_count": 26,
   "id": "75d920ac-7878-4af1-aa74-0cb7c1184246",
   "metadata": {},
   "outputs": [
    {
     "data": {
      "text/plain": [
       "0    25\n",
       "1    35\n",
       "2    46\n",
       "3    56\n",
       "4    18\n",
       "dtype: int64"
      ]
     },
     "execution_count": 26,
     "metadata": {},
     "output_type": "execute_result"
    }
   ],
   "source": [
    "## Podemos crearlas apartir de una lista\n",
    "SerieEdad=pd.Series(ListaEdad)\n",
    "SerieEdad"
   ]
  },
  {
   "cell_type": "code",
   "execution_count": 27,
   "id": "0cc31f8d-3eec-4600-893a-4be2ae6660f4",
   "metadata": {},
   "outputs": [
    {
     "data": {
      "text/plain": [
       "25"
      ]
     },
     "execution_count": 27,
     "metadata": {},
     "output_type": "execute_result"
    }
   ],
   "source": [
    "## Acceder a los datos de la serie \n",
    "SerieEdad[0]"
   ]
  },
  {
   "cell_type": "code",
   "execution_count": 28,
   "id": "dff428f8-9009-424d-b0a2-9bbb193157bf",
   "metadata": {},
   "outputs": [
    {
     "data": {
      "text/plain": [
       "18"
      ]
     },
     "execution_count": 28,
     "metadata": {},
     "output_type": "execute_result"
    }
   ],
   "source": [
    "SerieEdad[4]"
   ]
  },
  {
   "cell_type": "code",
   "execution_count": 29,
   "id": "83798338-d1a9-4b34-9e57-dd2c0546c3bc",
   "metadata": {},
   "outputs": [],
   "source": [
    "## Crear una serie a partir de un diccionario\n",
    "Edad_Diccionarios={\"Sara\":25,\"Fabian\":35,\"Ricardo\":40}"
   ]
  },
  {
   "cell_type": "code",
   "execution_count": 30,
   "id": "43051bb6-1dcc-4916-ba50-7298b54df728",
   "metadata": {},
   "outputs": [
    {
     "data": {
      "text/plain": [
       "25"
      ]
     },
     "execution_count": 30,
     "metadata": {},
     "output_type": "execute_result"
    }
   ],
   "source": [
    "Edad_Diccionarios[\"Sara\"]"
   ]
  },
  {
   "cell_type": "code",
   "execution_count": 31,
   "id": "ebcadb0c-d07b-4bf8-ab32-e84fb92b69b6",
   "metadata": {},
   "outputs": [],
   "source": [
    "SerieDiccionarioEdad=pd.Series(Edad_Diccionarios)"
   ]
  },
  {
   "cell_type": "code",
   "execution_count": 32,
   "id": "a145ab35-8efe-4d8f-bd92-58115bda83ef",
   "metadata": {},
   "outputs": [
    {
     "data": {
      "text/plain": [
       "Sara       25\n",
       "Fabian     35\n",
       "Ricardo    40\n",
       "dtype: int64"
      ]
     },
     "execution_count": 32,
     "metadata": {},
     "output_type": "execute_result"
    }
   ],
   "source": [
    "SerieDiccionarioEdad"
   ]
  },
  {
   "cell_type": "code",
   "execution_count": 33,
   "id": "51f52791-ff72-4729-b600-c6fd7909de7e",
   "metadata": {},
   "outputs": [
    {
     "data": {
      "text/plain": [
       "25"
      ]
     },
     "execution_count": 33,
     "metadata": {},
     "output_type": "execute_result"
    }
   ],
   "source": [
    "SerieDiccionarioEdad[\"Sara\"]"
   ]
  },
  {
   "cell_type": "code",
   "execution_count": 34,
   "id": "68739e6d-dba3-4250-a466-20dbb0ff61cd",
   "metadata": {},
   "outputs": [],
   "source": [
    "## Agregar un dato nuevo a la serie\n",
    "SerieDiccionarioEdad=SerieDiccionarioEdad.append(pd.Series(50,index=[\"Oscar\"]))"
   ]
  },
  {
   "cell_type": "code",
   "execution_count": 35,
   "id": "4b821f6a-d607-4359-ad97-af652d33b549",
   "metadata": {},
   "outputs": [
    {
     "data": {
      "text/plain": [
       "Sara       25\n",
       "Fabian     35\n",
       "Ricardo    40\n",
       "Oscar      50\n",
       "dtype: int64"
      ]
     },
     "execution_count": 35,
     "metadata": {},
     "output_type": "execute_result"
    }
   ],
   "source": [
    "SerieDiccionarioEdad"
   ]
  },
  {
   "cell_type": "markdown",
   "id": "17806376-8b9e-45e3-9940-f46f1088d2c3",
   "metadata": {},
   "source": [
    "# **DataFrame en Python (Tablas filas y columnas)**\n",
    "\n",
    "En Python, un DataFrame es una estructura de datos bidimensional, similar a una hoja de cálculo o una tabla de base de datos, que se utiliza para almacenar y manipular datos. Los DataFrames se utilizan comúnmente en el análisis de datos y la ciencia de datos, ya que permiten organizar y manipular grandes cantidades de datos de manera eficiente."
   ]
  },
  {
   "cell_type": "code",
   "execution_count": 41,
   "id": "f2ab78b4-7e6e-403f-9446-b13e4d6be951",
   "metadata": {},
   "outputs": [],
   "source": [
    "## CREARLOS DESDE LISTAS\n",
    "Nombres=[\"Ana\",\"Pedro\",\"Sara\",\"Ricardo\",\"Julian\",\"Sebastian\",\"Maria\"]\n",
    "Edad=[25,35,46,52,18,19,21]\n",
    "Salario=[2500000,5000000,8000000,8500000,15000000,35000000,60000000]\n",
    "Cargo=[\"Aprendiz\",\"Analista Financiero\",\"Desarrollador\",\"Lider Tecnico\",\"Senador\",\"Manager TIC\"]\n",
    "Producto=[\"TC Estudiantil\",\"CDT\",\"TC ORO\",\"TC PREMIUM\",\"LIBRANZA\",\"Hipoteca\"]"
   ]
  },
  {
   "cell_type": "code",
   "execution_count": 43,
   "id": "abe0d37d-f775-4a8d-a4bb-b10170568903",
   "metadata": {},
   "outputs": [
    {
     "data": {
      "text/plain": [
       "['Ana', 'Pedro', 'Sara', 'Ricardo', 'Julian', 'Sebastian', 'Maria']"
      ]
     },
     "execution_count": 43,
     "metadata": {},
     "output_type": "execute_result"
    }
   ],
   "source": [
    "Nombres"
   ]
  },
  {
   "cell_type": "code",
   "execution_count": 44,
   "id": "16a28451-ba92-45a2-98d5-fe3abd986b98",
   "metadata": {},
   "outputs": [
    {
     "data": {
      "text/plain": [
       "[25, 35, 46, 52, 18, 19, 21]"
      ]
     },
     "execution_count": 44,
     "metadata": {},
     "output_type": "execute_result"
    }
   ],
   "source": [
    "Edad"
   ]
  },
  {
   "cell_type": "code",
   "execution_count": 46,
   "id": "a7e7e7e8-463e-4255-a307-81081841fe15",
   "metadata": {},
   "outputs": [
    {
     "data": {
      "text/plain": [
       "[('Ana', 25, 2500000, 'Aprendiz', 'TC Estudiantil'),\n",
       " ('Pedro', 35, 5000000, 'Analista Financiero', 'CDT'),\n",
       " ('Sara', 46, 8000000, 'Desarrollador', 'TC ORO'),\n",
       " ('Ricardo', 52, 8500000, 'Lider Tecnico', 'TC PREMIUM'),\n",
       " ('Julian', 18, 15000000, 'Senador', 'LIBRANZA'),\n",
       " ('Sebastian', 19, 35000000, 'Manager TIC', 'Hipoteca')]"
      ]
     },
     "execution_count": 46,
     "metadata": {},
     "output_type": "execute_result"
    }
   ],
   "source": [
    "## Mapeamos las combinacioes con el comando zip\n",
    "Clientes=list(zip(Nombres,Edad,Salario,Cargo,Producto))\n",
    "Clientes"
   ]
  },
  {
   "cell_type": "code",
   "execution_count": 48,
   "id": "7e4b551f-a625-4b8d-8279-c1dfa853b80e",
   "metadata": {},
   "outputs": [
    {
     "data": {
      "text/html": [
       "<div>\n",
       "<style scoped>\n",
       "    .dataframe tbody tr th:only-of-type {\n",
       "        vertical-align: middle;\n",
       "    }\n",
       "\n",
       "    .dataframe tbody tr th {\n",
       "        vertical-align: top;\n",
       "    }\n",
       "\n",
       "    .dataframe thead th {\n",
       "        text-align: right;\n",
       "    }\n",
       "</style>\n",
       "<table border=\"1\" class=\"dataframe\">\n",
       "  <thead>\n",
       "    <tr style=\"text-align: right;\">\n",
       "      <th></th>\n",
       "      <th>Nombre</th>\n",
       "      <th>Edad</th>\n",
       "      <th>Salario</th>\n",
       "      <th>Cargo</th>\n",
       "      <th>Producto</th>\n",
       "    </tr>\n",
       "  </thead>\n",
       "  <tbody>\n",
       "    <tr>\n",
       "      <th>0</th>\n",
       "      <td>Ana</td>\n",
       "      <td>25</td>\n",
       "      <td>2500000</td>\n",
       "      <td>Aprendiz</td>\n",
       "      <td>TC Estudiantil</td>\n",
       "    </tr>\n",
       "    <tr>\n",
       "      <th>1</th>\n",
       "      <td>Pedro</td>\n",
       "      <td>35</td>\n",
       "      <td>5000000</td>\n",
       "      <td>Analista Financiero</td>\n",
       "      <td>CDT</td>\n",
       "    </tr>\n",
       "    <tr>\n",
       "      <th>2</th>\n",
       "      <td>Sara</td>\n",
       "      <td>46</td>\n",
       "      <td>8000000</td>\n",
       "      <td>Desarrollador</td>\n",
       "      <td>TC ORO</td>\n",
       "    </tr>\n",
       "    <tr>\n",
       "      <th>3</th>\n",
       "      <td>Ricardo</td>\n",
       "      <td>52</td>\n",
       "      <td>8500000</td>\n",
       "      <td>Lider Tecnico</td>\n",
       "      <td>TC PREMIUM</td>\n",
       "    </tr>\n",
       "    <tr>\n",
       "      <th>4</th>\n",
       "      <td>Julian</td>\n",
       "      <td>18</td>\n",
       "      <td>15000000</td>\n",
       "      <td>Senador</td>\n",
       "      <td>LIBRANZA</td>\n",
       "    </tr>\n",
       "    <tr>\n",
       "      <th>5</th>\n",
       "      <td>Sebastian</td>\n",
       "      <td>19</td>\n",
       "      <td>35000000</td>\n",
       "      <td>Manager TIC</td>\n",
       "      <td>Hipoteca</td>\n",
       "    </tr>\n",
       "  </tbody>\n",
       "</table>\n",
       "</div>"
      ],
      "text/plain": [
       "      Nombre  Edad   Salario                Cargo        Producto\n",
       "0        Ana    25   2500000             Aprendiz  TC Estudiantil\n",
       "1      Pedro    35   5000000  Analista Financiero             CDT\n",
       "2       Sara    46   8000000        Desarrollador          TC ORO\n",
       "3    Ricardo    52   8500000        Lider Tecnico      TC PREMIUM\n",
       "4     Julian    18  15000000              Senador        LIBRANZA\n",
       "5  Sebastian    19  35000000          Manager TIC        Hipoteca"
      ]
     },
     "execution_count": 48,
     "metadata": {},
     "output_type": "execute_result"
    }
   ],
   "source": [
    "## Aplicar la funcion pd.DataFrame para convetir finalmente en una Tabla\n",
    "BaseClientes=pd.DataFrame(Clientes,columns=[\"Nombre\",\"Edad\",\"Salario\",\"Cargo\",\"Producto\"])\n",
    "BaseClientes"
   ]
  },
  {
   "cell_type": "code",
   "execution_count": 49,
   "id": "14496806-de9f-40b5-9642-36e5d6f56b19",
   "metadata": {},
   "outputs": [
    {
     "data": {
      "text/html": [
       "<div>\n",
       "<style scoped>\n",
       "    .dataframe tbody tr th:only-of-type {\n",
       "        vertical-align: middle;\n",
       "    }\n",
       "\n",
       "    .dataframe tbody tr th {\n",
       "        vertical-align: top;\n",
       "    }\n",
       "\n",
       "    .dataframe thead th {\n",
       "        text-align: right;\n",
       "    }\n",
       "</style>\n",
       "<table border=\"1\" class=\"dataframe\">\n",
       "  <thead>\n",
       "    <tr style=\"text-align: right;\">\n",
       "      <th></th>\n",
       "      <th>Nombre</th>\n",
       "      <th>Edad</th>\n",
       "      <th>Salario</th>\n",
       "      <th>Cargo</th>\n",
       "      <th>Producto</th>\n",
       "    </tr>\n",
       "  </thead>\n",
       "  <tbody>\n",
       "    <tr>\n",
       "      <th>0</th>\n",
       "      <td>Ana</td>\n",
       "      <td>25</td>\n",
       "      <td>2500000</td>\n",
       "      <td>Aprendiz</td>\n",
       "      <td>TC Estudiantil</td>\n",
       "    </tr>\n",
       "    <tr>\n",
       "      <th>1</th>\n",
       "      <td>Pedro</td>\n",
       "      <td>35</td>\n",
       "      <td>5000000</td>\n",
       "      <td>Analista Financiero</td>\n",
       "      <td>CDT</td>\n",
       "    </tr>\n",
       "    <tr>\n",
       "      <th>2</th>\n",
       "      <td>Sara</td>\n",
       "      <td>46</td>\n",
       "      <td>8000000</td>\n",
       "      <td>Desarrollador</td>\n",
       "      <td>TC ORO</td>\n",
       "    </tr>\n",
       "    <tr>\n",
       "      <th>3</th>\n",
       "      <td>Ricardo</td>\n",
       "      <td>52</td>\n",
       "      <td>8500000</td>\n",
       "      <td>Lider Tecnico</td>\n",
       "      <td>TC PREMIUM</td>\n",
       "    </tr>\n",
       "    <tr>\n",
       "      <th>4</th>\n",
       "      <td>Julian</td>\n",
       "      <td>18</td>\n",
       "      <td>15000000</td>\n",
       "      <td>Senador</td>\n",
       "      <td>LIBRANZA</td>\n",
       "    </tr>\n",
       "    <tr>\n",
       "      <th>5</th>\n",
       "      <td>Sebastian</td>\n",
       "      <td>19</td>\n",
       "      <td>35000000</td>\n",
       "      <td>Manager TIC</td>\n",
       "      <td>Hipoteca</td>\n",
       "    </tr>\n",
       "  </tbody>\n",
       "</table>\n",
       "</div>"
      ],
      "text/plain": [
       "      Nombre  Edad   Salario                Cargo        Producto\n",
       "0        Ana    25   2500000             Aprendiz  TC Estudiantil\n",
       "1      Pedro    35   5000000  Analista Financiero             CDT\n",
       "2       Sara    46   8000000        Desarrollador          TC ORO\n",
       "3    Ricardo    52   8500000        Lider Tecnico      TC PREMIUM\n",
       "4     Julian    18  15000000              Senador        LIBRANZA\n",
       "5  Sebastian    19  35000000          Manager TIC        Hipoteca"
      ]
     },
     "execution_count": 49,
     "metadata": {},
     "output_type": "execute_result"
    }
   ],
   "source": [
    "BaseClientes"
   ]
  },
  {
   "cell_type": "code",
   "execution_count": 50,
   "id": "9d59d62a-9b75-4aed-9cdc-2a9bf26af3ae",
   "metadata": {},
   "outputs": [],
   "source": [
    "## Exportar  o Guardarla"
   ]
  },
  {
   "cell_type": "code",
   "execution_count": 51,
   "id": "ad4c203d-7b09-42e1-b930-686e1f982b97",
   "metadata": {},
   "outputs": [],
   "source": [
    "BaseClientes.to_excel(\"./Resultados/Clientes.xlsx\",index=False)"
   ]
  },
  {
   "cell_type": "code",
   "execution_count": null,
   "id": "ffef3945-9ec4-4c68-a00f-4d13f6552453",
   "metadata": {},
   "outputs": [],
   "source": []
  }
 ],
 "metadata": {
  "kernelspec": {
   "display_name": "Python 3 (ipykernel)",
   "language": "python",
   "name": "python3"
  },
  "language_info": {
   "codemirror_mode": {
    "name": "ipython",
    "version": 3
   },
   "file_extension": ".py",
   "mimetype": "text/x-python",
   "name": "python",
   "nbconvert_exporter": "python",
   "pygments_lexer": "ipython3",
   "version": "3.9.12"
  }
 },
 "nbformat": 4,
 "nbformat_minor": 5
}
