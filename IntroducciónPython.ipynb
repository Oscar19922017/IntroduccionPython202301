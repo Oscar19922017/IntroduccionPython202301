{
  "nbformat": 4,
  "nbformat_minor": 0,
  "metadata": {
    "colab": {
      "provenance": [],
      "toc_visible": true,
      "authorship_tag": "ABX9TyO3TC7demmZaXdjVT5BFlaS",
      "include_colab_link": true
    },
    "kernelspec": {
      "name": "python3",
      "display_name": "Python 3"
    },
    "language_info": {
      "name": "python"
    },
    "gpuClass": "standard"
  },
  "cells": [
    {
      "cell_type": "markdown",
      "metadata": {
        "id": "view-in-github",
        "colab_type": "text"
      },
      "source": [
        "<a href=\"https://colab.research.google.com/github/Oscar19922017/IntroduccionPython202301/blob/main/Introducci%C3%B3nPython.ipynb\" target=\"_parent\"><img src=\"https://colab.research.google.com/assets/colab-badge.svg\" alt=\"Open In Colab\"/></a>"
      ]
    },
    {
      "cell_type": "markdown",
      "source": [
        "<img src=\"https://upload.wikimedia.org/wikipedia/commons/thumb/c/c3/Python-logo-notext.svg/701px-Python-logo-notext.svg.png\" width=100, align=\"right\" >\n",
        "\n",
        "\n",
        "\n",
        "# **1) Introducción a Python**\n",
        "\n",
        "\n",
        "\n",
        "Python es un lenguaje de programación de alto nivel, interpretado, interactivo y orientado a objetos. Fue creado por Guido van Rossum y su primera versión fue lanzada en 1991. Python es conocido por su simplicidad y legibilidad, lo que facilita el aprendizaje y la escritura de código. Se utiliza ampliamente en diversas áreas, como desarrollo web, análisis de datos, inteligencia artificial, automatización, desarrollo de videojuegos y muchas otras aplicaciones\n",
        "\n",
        "Python se ha utilizado en la creación de muchas aplicaciones y sitios web populares debido a su versatilidad y facilidad de uso. Algunos ejemplos notables incluyen:\n",
        "\n",
        "* Instagram\n",
        "* Spotify\n",
        "* Youtube\n",
        "* Dropbox\n",
        "* Reddit\n",
        "* Pinterest\n",
        "\n"
      ],
      "metadata": {
        "id": "sfd9T4PXtOYu"
      }
    },
    {
      "cell_type": "markdown",
      "source": [
        "# **2) Python para la ciencia de datos**\n",
        "\n",
        "Según lo revelado por los resultados de una encuesta realizada por Kaggle una plataforna de científicos de datos, Python es el más usado en cuanto a lenguaje de programación, seguido de SQL y R para el tema de ciencia de Datos\n",
        "\n",
        "Python es uno de los lenguajes de programación más populares y versátiles utilizados en la ciencia de datos. Gracias a su simplicidad y a su amplia variedad de bibliotecas especializadas, Python se ha convertido en una herramienta esencial para científicos de datos, analistas y desarrolladores de todo el mundo.\n",
        "\n",
        "A continuación se presentan algunas bibliotecas y herramientas clave de Python para la ciencia de datos:\n",
        "\n",
        "* NumPy: Biblioteca de Python para realizar operaciones matemáticas y de álgebra lineal con arreglos multidimensionales y funciones matriciales.\n",
        "\n",
        "* pandas: Biblioteca para la manipulación y análisis de datos que proporciona estructuras de datos como DataFrames y Series, que facilitan el trabajo con datos estructurados.\n",
        "\n",
        "* Matplotlib: Biblioteca para la creación de gráficos y visualizaciones en 2D y 3D, permitiendo la representación de datos de manera efectiva y personalizada.\n",
        "\n",
        "* seaborn: Basada en Matplotlib, seaborn es una biblioteca de visualización de datos estadísticos que proporciona una interfaz de alto nivel para crear gráficos informativos y atractivos.\n",
        "\n",
        "* SciPy: Extiende las capacidades de NumPy al incluir funciones adicionales para optimización, álgebra lineal, integración, interpolación, estadísticas, entre otras.\n",
        "\n",
        "* scikit-learn: Biblioteca de aprendizaje automático (machine learning) que incluye herramientas para clasificación, regresión, clustering, reducción de dimensionalidad, selección de modelos y preprocesamiento de datos.\n",
        "\n",
        "* TensorFlow: Desarrollada por Google, TensorFlow es una biblioteca de código abierto para la creación y entrenamiento de modelos de aprendizaje profundo (deep learning) y aprendizaje automático.\n",
        "\n",
        "* Keras: Interfaz de alto nivel para TensorFlow y otras bibliotecas de aprendizaje profundo que simplifica la creación y el entrenamiento de redes neuronales.\n",
        "\n",
        "* PyTorch: Desarrollada por Facebook, PyTorch es otra biblioteca de aprendizaje profundo que facilita la creación de modelos de aprendizaje automático con mayor flexibilidad y dinamismo.\n",
        "\n",
        "* Jupyter Notebook: Entorno de desarrollo interactivo basado en navegador para crear y compartir documentos que contienen código, ecuaciones, visualizaciones y texto explicativo.\n",
        "\n",
        "* Stastmodels: R de python\n"
      ],
      "metadata": {
        "id": "nzvpfCkjwQ7h"
      }
    },
    {
      "cell_type": "markdown",
      "source": [
        "# **3) Fundamentos de Programación en Python**"
      ],
      "metadata": {
        "id": "QHPXwDRR3kl-"
      }
    },
    {
      "cell_type": "markdown",
      "source": [
        "## **3.1) Usando Python como Calculadora**"
      ],
      "metadata": {
        "id": "UckJxiuo4lTX"
      }
    },
    {
      "cell_type": "code",
      "source": [
        "# Sumar en python\n",
        "65+89"
      ],
      "metadata": {
        "colab": {
          "base_uri": "https://localhost:8080/"
        },
        "id": "5nnO5jGx47H4",
        "outputId": "56587e0f-840d-4193-9786-904bfc87eead"
      },
      "execution_count": 10,
      "outputs": [
        {
          "output_type": "execute_result",
          "data": {
            "text/plain": [
              "154"
            ]
          },
          "metadata": {},
          "execution_count": 10
        }
      ]
    },
    {
      "cell_type": "code",
      "source": [
        "## Restar Python\n",
        "100-25"
      ],
      "metadata": {
        "colab": {
          "base_uri": "https://localhost:8080/"
        },
        "id": "6ZYbcI8549d_",
        "outputId": "bbb550c9-e720-49e3-a723-18ae12d1072a"
      },
      "execution_count": 11,
      "outputs": [
        {
          "output_type": "execute_result",
          "data": {
            "text/plain": [
              "75"
            ]
          },
          "metadata": {},
          "execution_count": 11
        }
      ]
    },
    {
      "cell_type": "code",
      "source": [
        "## Multiplicar\n",
        "6*25"
      ],
      "metadata": {
        "colab": {
          "base_uri": "https://localhost:8080/"
        },
        "id": "0ujTnYVZ5HGz",
        "outputId": "bc487756-c1cd-4c28-efc8-1c53dc51c4cf"
      },
      "execution_count": 12,
      "outputs": [
        {
          "output_type": "execute_result",
          "data": {
            "text/plain": [
              "150"
            ]
          },
          "metadata": {},
          "execution_count": 12
        }
      ]
    },
    {
      "cell_type": "code",
      "source": [
        "## Dividir en Python\n",
        "100/2"
      ],
      "metadata": {
        "colab": {
          "base_uri": "https://localhost:8080/"
        },
        "id": "_pI_CLjx5J9y",
        "outputId": "e4c12a93-3fa3-4314-c3f1-9806f0319822"
      },
      "execution_count": 13,
      "outputs": [
        {
          "output_type": "execute_result",
          "data": {
            "text/plain": [
              "50.0"
            ]
          },
          "metadata": {},
          "execution_count": 13
        }
      ]
    },
    {
      "cell_type": "markdown",
      "source": [
        "## **3.2) Sintaxis y estructura básica de Python:**\n",
        "\n",
        "* Variables y tipos de datos (números, cadenas, listas, tuplas, conjuntos, diccionarios)\n",
        "* Operadores (aritméticos, de asignación, de comparación, lógicos, de identidad, de pertenencia)\n",
        "* Control de flujo (condicionales: if, elif, else; bucles: for, while)"
      ],
      "metadata": {
        "id": "-oGstpNZ6JqL"
      }
    },
    {
      "cell_type": "markdown",
      "source": [
        "### **3.2.1 Variables**\n",
        "\n",
        "¿Que es una Variable?\n",
        "\n",
        "\"En programación, una variable está formada por un espacio en el sistema de almacenaje (memoria principal de un ordenador) y un nombre simbólico (un identificador) que está asociado a dicho espacio. Ese espacio contiene una cantidad de información conocida o desconocida, es decir un valor. El nombre de la variable es la forma usual de referirse al valor almacenado\""
      ],
      "metadata": {
        "id": "mtzO7l8G6Tv7"
      }
    },
    {
      "cell_type": "markdown",
      "source": [
        "**Variables Númericas**"
      ],
      "metadata": {
        "id": "vHcoE0kp7Tgi"
      }
    },
    {
      "cell_type": "code",
      "source": [
        "## Enteras\n",
        "Edad=45\n",
        "Edad"
      ],
      "metadata": {
        "colab": {
          "base_uri": "https://localhost:8080/"
        },
        "id": "8TSclQlj5PdD",
        "outputId": "9a82b89c-726b-4307-a15d-74c4a2526feb"
      },
      "execution_count": 15,
      "outputs": [
        {
          "output_type": "execute_result",
          "data": {
            "text/plain": [
              "45"
            ]
          },
          "metadata": {},
          "execution_count": 15
        }
      ]
    },
    {
      "cell_type": "code",
      "source": [
        "print(Edad)"
      ],
      "metadata": {
        "colab": {
          "base_uri": "https://localhost:8080/"
        },
        "id": "ubTEAohX7uAi",
        "outputId": "ef6aaf35-5ebe-48d6-8c0b-0ae063c7af1a"
      },
      "execution_count": 16,
      "outputs": [
        {
          "output_type": "stream",
          "name": "stdout",
          "text": [
            "45\n"
          ]
        }
      ]
    },
    {
      "cell_type": "code",
      "source": [
        "print(f'El valor de la variable edad es: {Edad} años')"
      ],
      "metadata": {
        "colab": {
          "base_uri": "https://localhost:8080/"
        },
        "id": "A3eIkPc871El",
        "outputId": "d8bb946f-c127-412b-9099-8974afcf722e"
      },
      "execution_count": 18,
      "outputs": [
        {
          "output_type": "stream",
          "name": "stdout",
          "text": [
            "El valor de la variable edad es: 45 años\n"
          ]
        }
      ]
    },
    {
      "cell_type": "code",
      "source": [
        "## Decimales\n",
        "Pi=3.14"
      ],
      "metadata": {
        "id": "W9V9S-mZ8BIW"
      },
      "execution_count": 19,
      "outputs": []
    },
    {
      "cell_type": "code",
      "source": [
        "print(f'El valor de la variable Pi es: {Pi} ')"
      ],
      "metadata": {
        "colab": {
          "base_uri": "https://localhost:8080/"
        },
        "id": "doQIAfiw8Ocp",
        "outputId": "d74105c3-0be7-4f07-82ce-34b2d7ec95da"
      },
      "execution_count": 20,
      "outputs": [
        {
          "output_type": "stream",
          "name": "stdout",
          "text": [
            "El valor de la variable Pi es: 3.14 \n"
          ]
        }
      ]
    },
    {
      "cell_type": "code",
      "source": [
        "## Type datos\n",
        "type(Edad)"
      ],
      "metadata": {
        "colab": {
          "base_uri": "https://localhost:8080/"
        },
        "id": "xPWxQsjS8S7p",
        "outputId": "2ba046e8-f401-429a-812e-c06b4d913853"
      },
      "execution_count": 21,
      "outputs": [
        {
          "output_type": "execute_result",
          "data": {
            "text/plain": [
              "int"
            ]
          },
          "metadata": {},
          "execution_count": 21
        }
      ]
    },
    {
      "cell_type": "code",
      "source": [
        "type(Pi)"
      ],
      "metadata": {
        "colab": {
          "base_uri": "https://localhost:8080/"
        },
        "id": "TLHxBU9-8eYL",
        "outputId": "72c1a1fd-c75c-4da3-bac5-54800bfe263e"
      },
      "execution_count": 22,
      "outputs": [
        {
          "output_type": "execute_result",
          "data": {
            "text/plain": [
              "float"
            ]
          },
          "metadata": {},
          "execution_count": 22
        }
      ]
    },
    {
      "cell_type": "code",
      "source": [
        "### Transformar un float a int\n",
        "Pi_Entero=int(Pi)\n",
        "Pi_Entero"
      ],
      "metadata": {
        "colab": {
          "base_uri": "https://localhost:8080/"
        },
        "id": "xTuMR0NJAjqy",
        "outputId": "d7a2822a-7e58-40ae-85ea-9246013ad5cb"
      },
      "execution_count": 27,
      "outputs": [
        {
          "output_type": "execute_result",
          "data": {
            "text/plain": [
              "3"
            ]
          },
          "metadata": {},
          "execution_count": 27
        }
      ]
    },
    {
      "cell_type": "code",
      "source": [
        "## Pasa de un int a un float\n",
        "Edad_Float=float(Edad)\n",
        "Edad_Float"
      ],
      "metadata": {
        "colab": {
          "base_uri": "https://localhost:8080/"
        },
        "id": "SQlGNb5k8gU6",
        "outputId": "cd4d8286-c80c-4fa5-f90d-cdbdc714ff63"
      },
      "execution_count": 29,
      "outputs": [
        {
          "output_type": "execute_result",
          "data": {
            "text/plain": [
              "45.0"
            ]
          },
          "metadata": {},
          "execution_count": 29
        }
      ]
    },
    {
      "cell_type": "code",
      "source": [
        "Edad*2"
      ],
      "metadata": {
        "colab": {
          "base_uri": "https://localhost:8080/"
        },
        "id": "cecJhD6OA3xB",
        "outputId": "1cbb197e-6591-4bfa-a4ed-85034b96150b"
      },
      "execution_count": 31,
      "outputs": [
        {
          "output_type": "execute_result",
          "data": {
            "text/plain": [
              "90"
            ]
          },
          "metadata": {},
          "execution_count": 31
        }
      ]
    },
    {
      "cell_type": "code",
      "source": [
        "Edad/2"
      ],
      "metadata": {
        "colab": {
          "base_uri": "https://localhost:8080/"
        },
        "id": "Y9jTfBOeA_rS",
        "outputId": "06f0d0a0-de27-4749-eb1e-352b32501f56"
      },
      "execution_count": 32,
      "outputs": [
        {
          "output_type": "execute_result",
          "data": {
            "text/plain": [
              "22.5"
            ]
          },
          "metadata": {},
          "execution_count": 32
        }
      ]
    },
    {
      "cell_type": "code",
      "source": [
        "Edad+45"
      ],
      "metadata": {
        "colab": {
          "base_uri": "https://localhost:8080/"
        },
        "id": "GuQ4FTB-BCik",
        "outputId": "19b7c570-a1ca-473d-e1d3-2eb0b4120316"
      },
      "execution_count": 33,
      "outputs": [
        {
          "output_type": "execute_result",
          "data": {
            "text/plain": [
              "90"
            ]
          },
          "metadata": {},
          "execution_count": 33
        }
      ]
    },
    {
      "cell_type": "code",
      "source": [
        "Edad-45"
      ],
      "metadata": {
        "colab": {
          "base_uri": "https://localhost:8080/"
        },
        "id": "P6cxpyyQBEXz",
        "outputId": "fd5e11a4-796e-43a1-b55d-06017f6ca23d"
      },
      "execution_count": 35,
      "outputs": [
        {
          "output_type": "execute_result",
          "data": {
            "text/plain": [
              "0"
            ]
          },
          "metadata": {},
          "execution_count": 35
        }
      ]
    },
    {
      "cell_type": "code",
      "source": [
        "## Variables String, Texto, se generan con \"\", ''\n",
        "Nombre=\"Sara\"\n",
        "Nombre1='Fabian'"
      ],
      "metadata": {
        "id": "9yeRXTY2BG_0"
      },
      "execution_count": 45,
      "outputs": []
    },
    {
      "cell_type": "code",
      "source": [
        "print(Nombre)\n",
        "print(Nombre1)"
      ],
      "metadata": {
        "colab": {
          "base_uri": "https://localhost:8080/"
        },
        "id": "sKzAR9UdBd4j",
        "outputId": "f5ce4786-1acf-4379-ac13-f28a93a366be"
      },
      "execution_count": 46,
      "outputs": [
        {
          "output_type": "stream",
          "name": "stdout",
          "text": [
            "Sara\n",
            "Fabian\n"
          ]
        }
      ]
    },
    {
      "cell_type": "code",
      "source": [
        "type(Nombre)"
      ],
      "metadata": {
        "colab": {
          "base_uri": "https://localhost:8080/"
        },
        "id": "hP_elLPHBgtY",
        "outputId": "fd985d71-4e08-4e6e-d7a6-7cd412366e26"
      },
      "execution_count": 47,
      "outputs": [
        {
          "output_type": "execute_result",
          "data": {
            "text/plain": [
              "str"
            ]
          },
          "metadata": {},
          "execution_count": 47
        }
      ]
    },
    {
      "cell_type": "code",
      "source": [
        "Vuelos=\"500\""
      ],
      "metadata": {
        "id": "LeeD3iSYBjqG"
      },
      "execution_count": 48,
      "outputs": []
    },
    {
      "cell_type": "code",
      "source": [
        "type(Vuelos)"
      ],
      "metadata": {
        "colab": {
          "base_uri": "https://localhost:8080/"
        },
        "id": "u5qHvigjB61o",
        "outputId": "b9feac6b-897c-4d16-e942-0df611d6e31a"
      },
      "execution_count": 49,
      "outputs": [
        {
          "output_type": "execute_result",
          "data": {
            "text/plain": [
              "str"
            ]
          },
          "metadata": {},
          "execution_count": 49
        }
      ]
    },
    {
      "cell_type": "code",
      "source": [
        "### Concatenar String\n",
        "Apellido=\"Villarraga\""
      ],
      "metadata": {
        "id": "LL9vlO2wB9wZ"
      },
      "execution_count": 50,
      "outputs": []
    },
    {
      "cell_type": "code",
      "source": [
        "NombreCompleto=Nombre+\" \"+Apellido"
      ],
      "metadata": {
        "id": "ypKVjg54CM26"
      },
      "execution_count": 59,
      "outputs": []
    },
    {
      "cell_type": "code",
      "source": [
        "NombreCompleto"
      ],
      "metadata": {
        "colab": {
          "base_uri": "https://localhost:8080/",
          "height": 36
        },
        "id": "CzaxXmPBCRnM",
        "outputId": "916ff534-cab8-42e5-ffa5-e4e53b357b85"
      },
      "execution_count": 60,
      "outputs": [
        {
          "output_type": "execute_result",
          "data": {
            "text/plain": [
              "'Sara Villarraga'"
            ],
            "application/vnd.google.colaboratory.intrinsic+json": {
              "type": "string"
            }
          },
          "metadata": {},
          "execution_count": 60
        }
      ]
    },
    {
      "cell_type": "code",
      "source": [
        "NombreCompleto*100"
      ],
      "metadata": {
        "colab": {
          "base_uri": "https://localhost:8080/",
          "height": 157
        },
        "id": "SSJbJV6ZCTsr",
        "outputId": "981527cf-6309-4d1e-c887-45ff4fe85b35"
      },
      "execution_count": 61,
      "outputs": [
        {
          "output_type": "execute_result",
          "data": {
            "text/plain": [
              "'Sara VillarragaSara VillarragaSara VillarragaSara VillarragaSara VillarragaSara VillarragaSara VillarragaSara VillarragaSara VillarragaSara VillarragaSara VillarragaSara VillarragaSara VillarragaSara VillarragaSara VillarragaSara VillarragaSara VillarragaSara VillarragaSara VillarragaSara VillarragaSara VillarragaSara VillarragaSara VillarragaSara VillarragaSara VillarragaSara VillarragaSara VillarragaSara VillarragaSara VillarragaSara VillarragaSara VillarragaSara VillarragaSara VillarragaSara VillarragaSara VillarragaSara VillarragaSara VillarragaSara VillarragaSara VillarragaSara VillarragaSara VillarragaSara VillarragaSara VillarragaSara VillarragaSara VillarragaSara VillarragaSara VillarragaSara VillarragaSara VillarragaSara VillarragaSara VillarragaSara VillarragaSara VillarragaSara VillarragaSara VillarragaSara VillarragaSara VillarragaSara VillarragaSara VillarragaSara VillarragaSara VillarragaSara VillarragaSara VillarragaSara VillarragaSara VillarragaSara VillarragaSara VillarragaSara VillarragaSara VillarragaSara VillarragaSara VillarragaSara VillarragaSara VillarragaSara VillarragaSara VillarragaSara VillarragaSara VillarragaSara VillarragaSara VillarragaSara VillarragaSara VillarragaSara VillarragaSara VillarragaSara VillarragaSara VillarragaSara VillarragaSara VillarragaSara VillarragaSara VillarragaSara VillarragaSara VillarragaSara VillarragaSara VillarragaSara VillarragaSara VillarragaSara VillarragaSara VillarragaSara VillarragaSara VillarragaSara Villarraga'"
            ],
            "application/vnd.google.colaboratory.intrinsic+json": {
              "type": "string"
            }
          },
          "metadata": {},
          "execution_count": 61
        }
      ]
    },
    {
      "cell_type": "code",
      "source": [
        "## Acceder a las letras del string, la primera posición en python es 0\n",
        "NombreCompleto[0]"
      ],
      "metadata": {
        "colab": {
          "base_uri": "https://localhost:8080/",
          "height": 36
        },
        "id": "BRkfeoCoCp7O",
        "outputId": "7ba77d45-8b7c-4239-c82c-51ebd4c71153"
      },
      "execution_count": 64,
      "outputs": [
        {
          "output_type": "execute_result",
          "data": {
            "text/plain": [
              "'S'"
            ],
            "application/vnd.google.colaboratory.intrinsic+json": {
              "type": "string"
            }
          },
          "metadata": {},
          "execution_count": 64
        }
      ]
    },
    {
      "cell_type": "code",
      "source": [
        "len(NombreCompleto) ## Len nos da la cantidad de elementos"
      ],
      "metadata": {
        "colab": {
          "base_uri": "https://localhost:8080/"
        },
        "id": "GMlrgi-wCxNw",
        "outputId": "fddbac0a-6869-4e39-f5ba-f961bbc42803"
      },
      "execution_count": 66,
      "outputs": [
        {
          "output_type": "execute_result",
          "data": {
            "text/plain": [
              "15"
            ]
          },
          "metadata": {},
          "execution_count": 66
        }
      ]
    },
    {
      "cell_type": "code",
      "source": [
        "NombreCompleto[14] ## última posición"
      ],
      "metadata": {
        "colab": {
          "base_uri": "https://localhost:8080/",
          "height": 36
        },
        "id": "u_YMgFFYC-tA",
        "outputId": "540ce56e-39c4-484c-d11e-e358b27febc1"
      },
      "execution_count": 68,
      "outputs": [
        {
          "output_type": "execute_result",
          "data": {
            "text/plain": [
              "'a'"
            ],
            "application/vnd.google.colaboratory.intrinsic+json": {
              "type": "string"
            }
          },
          "metadata": {},
          "execution_count": 68
        }
      ]
    },
    {
      "cell_type": "code",
      "source": [
        "NombreCompleto[-1] ## última posición"
      ],
      "metadata": {
        "colab": {
          "base_uri": "https://localhost:8080/",
          "height": 36
        },
        "id": "Ge92GLoqDFJS",
        "outputId": "54a2b4c9-c6de-48d3-96de-bcf28049871a"
      },
      "execution_count": 69,
      "outputs": [
        {
          "output_type": "execute_result",
          "data": {
            "text/plain": [
              "'a'"
            ],
            "application/vnd.google.colaboratory.intrinsic+json": {
              "type": "string"
            }
          },
          "metadata": {},
          "execution_count": 69
        }
      ]
    },
    {
      "cell_type": "code",
      "source": [
        "NombreCompleto[-2]"
      ],
      "metadata": {
        "colab": {
          "base_uri": "https://localhost:8080/",
          "height": 36
        },
        "id": "eoPgMIllDNSG",
        "outputId": "c2cee125-4b78-4e8d-b3c2-b4da2761bb51"
      },
      "execution_count": 70,
      "outputs": [
        {
          "output_type": "execute_result",
          "data": {
            "text/plain": [
              "'g'"
            ],
            "application/vnd.google.colaboratory.intrinsic+json": {
              "type": "string"
            }
          },
          "metadata": {},
          "execution_count": 70
        }
      ]
    },
    {
      "cell_type": "code",
      "source": [
        "NombreCompleto[-3]"
      ],
      "metadata": {
        "colab": {
          "base_uri": "https://localhost:8080/",
          "height": 36
        },
        "id": "e0sNhIoRDUnD",
        "outputId": "481370f6-6946-44d2-a043-a0b1e6dfa051"
      },
      "execution_count": 71,
      "outputs": [
        {
          "output_type": "execute_result",
          "data": {
            "text/plain": [
              "'a'"
            ],
            "application/vnd.google.colaboratory.intrinsic+json": {
              "type": "string"
            }
          },
          "metadata": {},
          "execution_count": 71
        }
      ]
    },
    {
      "cell_type": "code",
      "source": [
        "NombreCompleto[0:4]"
      ],
      "metadata": {
        "colab": {
          "base_uri": "https://localhost:8080/",
          "height": 36
        },
        "id": "_1ZaSlezDXYD",
        "outputId": "e27f3f99-6c7a-4971-81c3-6e35efa5f28f"
      },
      "execution_count": 76,
      "outputs": [
        {
          "output_type": "execute_result",
          "data": {
            "text/plain": [
              "'Sara'"
            ],
            "application/vnd.google.colaboratory.intrinsic+json": {
              "type": "string"
            }
          },
          "metadata": {},
          "execution_count": 76
        }
      ]
    },
    {
      "cell_type": "code",
      "source": [
        "NombreCompleto"
      ],
      "metadata": {
        "colab": {
          "base_uri": "https://localhost:8080/",
          "height": 36
        },
        "id": "yP9euOtiDcr1",
        "outputId": "5e8db522-c6d7-4858-ad6b-f65906e7b705"
      },
      "execution_count": 77,
      "outputs": [
        {
          "output_type": "execute_result",
          "data": {
            "text/plain": [
              "'Sara Villarraga'"
            ],
            "application/vnd.google.colaboratory.intrinsic+json": {
              "type": "string"
            }
          },
          "metadata": {},
          "execution_count": 77
        }
      ]
    },
    {
      "cell_type": "code",
      "source": [
        "## Separar String\n",
        "NombreCompleto.split(\" \")"
      ],
      "metadata": {
        "colab": {
          "base_uri": "https://localhost:8080/"
        },
        "id": "qAVfY-phDpV2",
        "outputId": "719d744d-6219-40ea-e908-0bded4801d3b"
      },
      "execution_count": 78,
      "outputs": [
        {
          "output_type": "execute_result",
          "data": {
            "text/plain": [
              "['Sara', 'Villarraga']"
            ]
          },
          "metadata": {},
          "execution_count": 78
        }
      ]
    },
    {
      "cell_type": "markdown",
      "source": [
        "### **3.2.2) Extructuras de Datos**\n",
        "\n",
        "Las estructuras de datos más comunes en Python son las listas, las tablas y los diccionarios"
      ],
      "metadata": {
        "id": "mEEeUcm-EC_V"
      }
    },
    {
      "cell_type": "markdown",
      "source": [
        "**Listas**\n",
        "\n",
        "Una lista en Python es una estructura de datos formada por una secuencia ordenada de objetos"
      ],
      "metadata": {
        "id": "EOXF4nUxEThE"
      }
    },
    {
      "cell_type": "code",
      "source": [
        "## Una lista siempre se crea con []\n",
        "Lista_Edades=[] ## Una lista Vacia"
      ],
      "metadata": {
        "id": "nSQs1PcrDybn"
      },
      "execution_count": 81,
      "outputs": []
    },
    {
      "cell_type": "code",
      "source": [
        "Lista_Edades"
      ],
      "metadata": {
        "colab": {
          "base_uri": "https://localhost:8080/"
        },
        "id": "YszoDzhkEiEI",
        "outputId": "ef7cb5fb-cf6b-42b4-b3a5-87b3fc3991a3"
      },
      "execution_count": 82,
      "outputs": [
        {
          "output_type": "execute_result",
          "data": {
            "text/plain": [
              "[]"
            ]
          },
          "metadata": {},
          "execution_count": 82
        }
      ]
    },
    {
      "cell_type": "code",
      "source": [
        "type(Lista_Edades)"
      ],
      "metadata": {
        "colab": {
          "base_uri": "https://localhost:8080/"
        },
        "id": "UaqmuF9VEjLu",
        "outputId": "957573d9-9379-4965-f86e-3b0babc0fd07"
      },
      "execution_count": 84,
      "outputs": [
        {
          "output_type": "execute_result",
          "data": {
            "text/plain": [
              "list"
            ]
          },
          "metadata": {},
          "execution_count": 84
        }
      ]
    },
    {
      "cell_type": "code",
      "source": [
        "Lista_Edades=[24,35,56,41,30,22,18,17,10]"
      ],
      "metadata": {
        "id": "YZMzJJvYEnh9"
      },
      "execution_count": 85,
      "outputs": []
    },
    {
      "cell_type": "code",
      "source": [
        "print(Lista_Edades)"
      ],
      "metadata": {
        "colab": {
          "base_uri": "https://localhost:8080/"
        },
        "id": "6HszM6_lEx-u",
        "outputId": "c632def0-62d7-4705-cdb2-ef749be1409c"
      },
      "execution_count": 86,
      "outputs": [
        {
          "output_type": "stream",
          "name": "stdout",
          "text": [
            "[24, 35, 56, 41, 30, 22, 18, 17, 10]\n"
          ]
        }
      ]
    },
    {
      "cell_type": "code",
      "source": [
        "## Acceder a la información\n",
        "Lista_Edades[0]"
      ],
      "metadata": {
        "colab": {
          "base_uri": "https://localhost:8080/"
        },
        "id": "GnuzdrIiE0uf",
        "outputId": "328bfcda-5351-4cbc-8d9a-e604340b2466"
      },
      "execution_count": 87,
      "outputs": [
        {
          "output_type": "execute_result",
          "data": {
            "text/plain": [
              "24"
            ]
          },
          "metadata": {},
          "execution_count": 87
        }
      ]
    },
    {
      "cell_type": "code",
      "source": [
        "Lista_Edades[2]"
      ],
      "metadata": {
        "colab": {
          "base_uri": "https://localhost:8080/"
        },
        "id": "XmfilzfIFc9t",
        "outputId": "cf65fd3a-b8b0-4eee-f73e-8f304bca3bfc"
      },
      "execution_count": 88,
      "outputs": [
        {
          "output_type": "execute_result",
          "data": {
            "text/plain": [
              "56"
            ]
          },
          "metadata": {},
          "execution_count": 88
        }
      ]
    },
    {
      "cell_type": "code",
      "source": [
        "len(Lista_Edades) # Elementos de la lista"
      ],
      "metadata": {
        "colab": {
          "base_uri": "https://localhost:8080/"
        },
        "id": "qZJyZ2sJFhtN",
        "outputId": "9723e58d-9204-4f36-d6fa-2f7e88fe6db6"
      },
      "execution_count": 90,
      "outputs": [
        {
          "output_type": "execute_result",
          "data": {
            "text/plain": [
              "9"
            ]
          },
          "metadata": {},
          "execution_count": 90
        }
      ]
    },
    {
      "cell_type": "code",
      "source": [
        "Lista_Edades[8]"
      ],
      "metadata": {
        "colab": {
          "base_uri": "https://localhost:8080/"
        },
        "id": "4mJDPzg0FfFM",
        "outputId": "e8f92ca9-e8b8-4468-fee8-0a7be5423ddf"
      },
      "execution_count": 91,
      "outputs": [
        {
          "output_type": "execute_result",
          "data": {
            "text/plain": [
              "10"
            ]
          },
          "metadata": {},
          "execution_count": 91
        }
      ]
    },
    {
      "cell_type": "code",
      "source": [
        "Lista_Edades[-1] # último dato"
      ],
      "metadata": {
        "colab": {
          "base_uri": "https://localhost:8080/"
        },
        "id": "95LWq1SbFmEO",
        "outputId": "50e2ce07-9f57-47f4-f740-7e18f5dd552f"
      },
      "execution_count": 93,
      "outputs": [
        {
          "output_type": "execute_result",
          "data": {
            "text/plain": [
              "10"
            ]
          },
          "metadata": {},
          "execution_count": 93
        }
      ]
    },
    {
      "cell_type": "code",
      "source": [
        "Lista_Edades[-2] # último dato"
      ],
      "metadata": {
        "colab": {
          "base_uri": "https://localhost:8080/"
        },
        "id": "iivucn-CFo4t",
        "outputId": "b2594fda-d9f5-4dbb-df80-f4496352f071"
      },
      "execution_count": 95,
      "outputs": [
        {
          "output_type": "execute_result",
          "data": {
            "text/plain": [
              "17"
            ]
          },
          "metadata": {},
          "execution_count": 95
        }
      ]
    },
    {
      "cell_type": "code",
      "source": [
        "Lista_Edades[0:3] "
      ],
      "metadata": {
        "colab": {
          "base_uri": "https://localhost:8080/"
        },
        "id": "VwZjgYBeFspt",
        "outputId": "ac042fe9-c8ba-414f-b01d-9f724ee10d01"
      },
      "execution_count": 96,
      "outputs": [
        {
          "output_type": "execute_result",
          "data": {
            "text/plain": [
              "[24, 35, 56]"
            ]
          },
          "metadata": {},
          "execution_count": 96
        }
      ]
    },
    {
      "cell_type": "code",
      "source": [
        "## Agregar Datos Nuevos con el comando append, siempre agrega al final el dato"
      ],
      "metadata": {
        "id": "iqSiWRtxFyZv"
      },
      "execution_count": 102,
      "outputs": []
    },
    {
      "cell_type": "code",
      "source": [
        "Lista_Edades.append(102)"
      ],
      "metadata": {
        "id": "H1YlTvjSF6ff"
      },
      "execution_count": 98,
      "outputs": []
    },
    {
      "cell_type": "code",
      "source": [
        "Lista_Edades"
      ],
      "metadata": {
        "colab": {
          "base_uri": "https://localhost:8080/"
        },
        "id": "3Ko6Rvd0F-Nw",
        "outputId": "817c6a2b-e058-4642-bf2a-ce19e902c7de"
      },
      "execution_count": 99,
      "outputs": [
        {
          "output_type": "execute_result",
          "data": {
            "text/plain": [
              "[24, 35, 56, 41, 30, 22, 18, 17, 10, 102]"
            ]
          },
          "metadata": {},
          "execution_count": 99
        }
      ]
    },
    {
      "cell_type": "code",
      "source": [
        "Lista_Edades.append(12)"
      ],
      "metadata": {
        "id": "tAHc1bX3F-8v"
      },
      "execution_count": 100,
      "outputs": []
    },
    {
      "cell_type": "code",
      "source": [
        "Lista_Edades"
      ],
      "metadata": {
        "colab": {
          "base_uri": "https://localhost:8080/"
        },
        "id": "_7rV1R7NGAs_",
        "outputId": "bbd1c6ff-eff3-4f7f-ebf3-f9ad33874ea0"
      },
      "execution_count": 101,
      "outputs": [
        {
          "output_type": "execute_result",
          "data": {
            "text/plain": [
              "[24, 35, 56, 41, 30, 22, 18, 17, 10, 102, 12]"
            ]
          },
          "metadata": {},
          "execution_count": 101
        }
      ]
    },
    {
      "cell_type": "code",
      "source": [
        "## Agregar manipulando la posición\n",
        "Lista_Edades.insert(0,15)"
      ],
      "metadata": {
        "id": "P4eGAGLqGBVg"
      },
      "execution_count": 103,
      "outputs": []
    },
    {
      "cell_type": "code",
      "source": [
        "Lista_Edades"
      ],
      "metadata": {
        "colab": {
          "base_uri": "https://localhost:8080/"
        },
        "id": "sSc9toJwGNqh",
        "outputId": "f806cbe4-43c9-44e1-d349-1febf2eb1fcb"
      },
      "execution_count": 104,
      "outputs": [
        {
          "output_type": "execute_result",
          "data": {
            "text/plain": [
              "[15, 24, 35, 56, 41, 30, 22, 18, 17, 10, 102, 12]"
            ]
          },
          "metadata": {},
          "execution_count": 104
        }
      ]
    },
    {
      "cell_type": "code",
      "source": [
        "Lista_Edades.insert(0,25)"
      ],
      "metadata": {
        "id": "IS4TAwlEGOeQ"
      },
      "execution_count": 105,
      "outputs": []
    },
    {
      "cell_type": "code",
      "source": [
        "Lista_Edades"
      ],
      "metadata": {
        "colab": {
          "base_uri": "https://localhost:8080/"
        },
        "id": "1NQjKzt4GRWx",
        "outputId": "c4eb8333-6aed-47ee-f540-15390c4a4cba"
      },
      "execution_count": 106,
      "outputs": [
        {
          "output_type": "execute_result",
          "data": {
            "text/plain": [
              "[25, 15, 24, 35, 56, 41, 30, 22, 18, 17, 10, 102, 12]"
            ]
          },
          "metadata": {},
          "execution_count": 106
        }
      ]
    },
    {
      "cell_type": "code",
      "source": [
        "Lista_Edades.insert(2,25)"
      ],
      "metadata": {
        "id": "wW9k3YsdGSCS"
      },
      "execution_count": 107,
      "outputs": []
    },
    {
      "cell_type": "code",
      "source": [
        "Lista_Edades"
      ],
      "metadata": {
        "colab": {
          "base_uri": "https://localhost:8080/"
        },
        "id": "OE8-LRaRGVKy",
        "outputId": "85d75e45-d349-4a46-bc5c-32e176da2479"
      },
      "execution_count": 108,
      "outputs": [
        {
          "output_type": "execute_result",
          "data": {
            "text/plain": [
              "[25, 15, 25, 24, 35, 56, 41, 30, 22, 18, 17, 10, 102, 12]"
            ]
          },
          "metadata": {},
          "execution_count": 108
        }
      ]
    },
    {
      "cell_type": "markdown",
      "source": [
        "# **Ejercicio**\n",
        "\n",
        "\n",
        "• Ejercicio 1: Encuentre el área de un triángulo rectángulo isósceles a partir de la longitud de sus catetos, ingresados por el usuario. Recuerde que un triángulo isósceles tiene dos lados iguales y que el área de un triángulo está dada por: (base * altura)/2"
      ],
      "metadata": {
        "id": "9eJGWPxjGd83"
      }
    },
    {
      "cell_type": "code",
      "source": [
        "Edad=int(input(\"Ingrese su edad\")) ## un input siempre genera un string"
      ],
      "metadata": {
        "colab": {
          "base_uri": "https://localhost:8080/"
        },
        "id": "-_-_Ic1LGXIS",
        "outputId": "94128ba3-cf3d-4c27-9218-a9954a96292a"
      },
      "execution_count": 112,
      "outputs": [
        {
          "name": "stdout",
          "output_type": "stream",
          "text": [
            "Ingrese su edad36\n"
          ]
        }
      ]
    },
    {
      "cell_type": "code",
      "source": [
        "Edad"
      ],
      "metadata": {
        "colab": {
          "base_uri": "https://localhost:8080/"
        },
        "id": "Ikp-jRjUGz6R",
        "outputId": "c42c5d80-e1c9-4327-d7ee-428f62c037da"
      },
      "execution_count": 113,
      "outputs": [
        {
          "output_type": "execute_result",
          "data": {
            "text/plain": [
              "36"
            ]
          },
          "metadata": {},
          "execution_count": 113
        }
      ]
    },
    {
      "cell_type": "code",
      "source": [
        "type(Edad)"
      ],
      "metadata": {
        "colab": {
          "base_uri": "https://localhost:8080/"
        },
        "id": "8XhDVld0G1kU",
        "outputId": "1937b6d2-ce76-4e73-944e-562faba4bcea"
      },
      "execution_count": 114,
      "outputs": [
        {
          "output_type": "execute_result",
          "data": {
            "text/plain": [
              "int"
            ]
          },
          "metadata": {},
          "execution_count": 114
        }
      ]
    },
    {
      "cell_type": "code",
      "source": [
        "## Usuario ingresa el año de nacimiento, yo le calculo la edad que tiene en el 2023\n",
        "Anio_Naciemiento=int(input(\"Ingrese su año de nacimiento\")) ## un input siempre genera un string\n",
        "EdadActual=2023-Anio_Naciemiento\n",
        "print(f'Su edad en el 2023 es: {EdadActual}')"
      ],
      "metadata": {
        "colab": {
          "base_uri": "https://localhost:8080/"
        },
        "id": "N5iZSJ3rG3Cl",
        "outputId": "4b9e7a3d-b75e-45c0-c5d0-88a762251ac9"
      },
      "execution_count": 116,
      "outputs": [
        {
          "output_type": "stream",
          "name": "stdout",
          "text": [
            "Ingrese su año de nacimiento1992\n",
            "Su edad en el 2023 es: 31\n"
          ]
        }
      ]
    },
    {
      "cell_type": "code",
      "source": [],
      "metadata": {
        "id": "fydkaMSJHLBW"
      },
      "execution_count": null,
      "outputs": []
    }
  ]
}